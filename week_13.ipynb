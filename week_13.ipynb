{
 "cells": [
  {
   "cell_type": "markdown",
   "id": "0368833d",
   "metadata": {},
   "source": [
    "-----------\n",
    "* 记录人：蓝瑾\n",
    "* 时间：2021-11-25\n",
    "* week13\n",
    "-----------"
   ]
  },
  {
   "cell_type": "markdown",
   "id": "ef8109b8",
   "metadata": {},
   "source": [
    "# 上周回顾\n",
    "\n",
    "## Json（文本数据）--->Dict(python中的字典数据)\n",
    "\n",
    "## 字典和列表的综合实践"
   ]
  },
  {
   "cell_type": "markdown",
   "id": "5ae3d8e9",
   "metadata": {},
   "source": [
    "# 本周内容\n",
    "\n",
    "## [集合]()\n",
    "\n",
    "> 1.集合的性质\n",
    ">> 1. 无序\n",
    ">> 2. 不重复\n",
    "\n",
    "> 2. 集合的一般方法\n",
    ">> 1. 增加\n",
    ">> 2. 删除\n",
    ">> 3. 查询：in\n",
    "\n",
    "> 3. 集合的数学逻辑运算"
   ]
  },
  {
   "cell_type": "code",
   "execution_count": 3,
   "id": "ff791bf2",
   "metadata": {},
   "outputs": [],
   "source": [
    "list_age = [18,24,25,24,18,23,18]\n",
    "no_duplicate_age = []\n",
    "for i in list_age:\n",
    "     if i not in no_duplicate_age:\n",
    "        no_duplicate_age.append(i)"
   ]
  },
  {
   "cell_type": "code",
   "execution_count": 4,
   "id": "363dd6f2",
   "metadata": {},
   "outputs": [
    {
     "data": {
      "text/plain": [
       "[18, 24, 25, 23]"
      ]
     },
     "execution_count": 4,
     "metadata": {},
     "output_type": "execute_result"
    }
   ],
   "source": [
    "no_duplicate_age"
   ]
  },
  {
   "cell_type": "code",
   "execution_count": 5,
   "id": "41b192c8",
   "metadata": {},
   "outputs": [
    {
     "data": {
      "text/plain": [
       "{18, 23, 24, 25}"
      ]
     },
     "execution_count": 5,
     "metadata": {},
     "output_type": "execute_result"
    }
   ],
   "source": [
    "# list--->set的方法：set()\n",
    "no_duplicate_age_set = set(list_age)\n",
    "no_duplicate_age_set"
   ]
  },
  {
   "cell_type": "code",
   "execution_count": 6,
   "id": "fd0da685",
   "metadata": {},
   "outputs": [],
   "source": [
    "# 官方文档测试\n",
    "# 1.移除重复项\n",
    "# 2.in查询成员关系"
   ]
  },
  {
   "cell_type": "markdown",
   "id": "246c0d98",
   "metadata": {},
   "source": [
    "## 集合的一般方法"
   ]
  },
  {
   "cell_type": "markdown",
   "id": "10b1aa94",
   "metadata": {},
   "source": [
    "* 集合创建的两种一般方法：\n",
    "> 1. set(list)\n",
    "> 2. 直接按照集合结构创建：{value1，value2...}"
   ]
  },
  {
   "cell_type": "markdown",
   "id": "27abf251",
   "metadata": {},
   "source": [
    "> 1. 增加\n",
    ">> * add   Add an element to a set"
   ]
  },
  {
   "cell_type": "code",
   "execution_count": 30,
   "id": "92469ec7",
   "metadata": {},
   "outputs": [
    {
     "data": {
      "text/plain": [
       "{0, 1, 3, 4, 7, 8, 66}"
      ]
     },
     "execution_count": 30,
     "metadata": {},
     "output_type": "execute_result"
    }
   ],
   "source": [
    "set_1 = set({1,3,4,0,8,66,7})\n",
    "set_1"
   ]
  },
  {
   "cell_type": "code",
   "execution_count": 31,
   "id": "7653da94",
   "metadata": {},
   "outputs": [
    {
     "name": "stdout",
     "output_type": "stream",
     "text": [
      "Help on built-in function add:\n",
      "\n",
      "add(...) method of builtins.set instance\n",
      "    Add an element to a set.\n",
      "    \n",
      "    This has no effect if the element is already present.\n",
      "\n"
     ]
    }
   ],
   "source": [
    "help(set_1.add)"
   ]
  },
  {
   "cell_type": "code",
   "execution_count": 32,
   "id": "72115725",
   "metadata": {},
   "outputs": [
    {
     "name": "stdout",
     "output_type": "stream",
     "text": [
      "{0, 1, 66, 3, 4, 99, 7, 8}\n"
     ]
    }
   ],
   "source": [
    "set_1.add(99)\n",
    "print(set_1)"
   ]
  },
  {
   "cell_type": "code",
   "execution_count": 33,
   "id": "ebabe0d8",
   "metadata": {},
   "outputs": [
    {
     "name": "stdout",
     "output_type": "stream",
     "text": [
      "Help on built-in function pop:\n",
      "\n",
      "pop(...) method of builtins.set instance\n",
      "    Remove and return an arbitrary set element.\n",
      "    Raises KeyError if the set is empty.\n",
      "\n"
     ]
    }
   ],
   "source": [
    "help(set_1.pop)"
   ]
  },
  {
   "cell_type": "markdown",
   "id": "19256fed",
   "metadata": {},
   "source": [
    "> 2. 删除\n",
    ">> 1. pop()\n",
    ">> 2. remove()"
   ]
  },
  {
   "cell_type": "code",
   "execution_count": 34,
   "id": "12ddb41c",
   "metadata": {},
   "outputs": [
    {
     "name": "stdout",
     "output_type": "stream",
     "text": [
      "{0, 1, 66, 3, 4, 99, 7, 8}\n",
      "{1, 66, 3, 4, 99, 7, 8}\n"
     ]
    }
   ],
   "source": [
    "print(set_1)\n",
    "set_1.pop()\n",
    "print(set_1)"
   ]
  },
  {
   "cell_type": "code",
   "execution_count": 35,
   "id": "161dc56d",
   "metadata": {},
   "outputs": [
    {
     "ename": "KeyError",
     "evalue": "'pop from an empty set'",
     "output_type": "error",
     "traceback": [
      "\u001b[1;31m---------------------------------------------------------------------------\u001b[0m",
      "\u001b[1;31mKeyError\u001b[0m                                  Traceback (most recent call last)",
      "\u001b[1;32m<ipython-input-35-2ace94adafa1>\u001b[0m in \u001b[0;36m<module>\u001b[1;34m\u001b[0m\n\u001b[0;32m      1\u001b[0m \u001b[0mset_2\u001b[0m \u001b[1;33m=\u001b[0m \u001b[0mset\u001b[0m\u001b[1;33m(\u001b[0m\u001b[1;33m{\u001b[0m\u001b[1;33m}\u001b[0m\u001b[1;33m)\u001b[0m\u001b[1;33m\u001b[0m\u001b[1;33m\u001b[0m\u001b[0m\n\u001b[1;32m----> 2\u001b[1;33m \u001b[0mset_2\u001b[0m\u001b[1;33m.\u001b[0m\u001b[0mpop\u001b[0m\u001b[1;33m(\u001b[0m\u001b[1;33m)\u001b[0m\u001b[1;33m\u001b[0m\u001b[1;33m\u001b[0m\u001b[0m\n\u001b[0m",
      "\u001b[1;31mKeyError\u001b[0m: 'pop from an empty set'"
     ]
    }
   ],
   "source": [
    "set_2 = set({})\n",
    "set_2.pop()"
   ]
  },
  {
   "cell_type": "code",
   "execution_count": 36,
   "id": "72cd7e79",
   "metadata": {},
   "outputs": [
    {
     "name": "stdout",
     "output_type": "stream",
     "text": [
      "{1, 66, 3, 4, 99, 7, 8}\n",
      "{1, 3, 4, 99, 7, 8}\n"
     ]
    }
   ],
   "source": [
    "print(set_1)\n",
    "if 66 in set_1:\n",
    "    set_1.remove(66)\n",
    "print(set_1)"
   ]
  },
  {
   "cell_type": "code",
   "execution_count": 37,
   "id": "e161d77b",
   "metadata": {},
   "outputs": [
    {
     "name": "stdout",
     "output_type": "stream",
     "text": [
      "Help on built-in function discard:\n",
      "\n",
      "discard(...) method of builtins.set instance\n",
      "    Remove an element from a set if it is a member.\n",
      "    \n",
      "    If the element is not a member, do nothing.\n",
      "\n"
     ]
    }
   ],
   "source": [
    "help(set_1.discard)"
   ]
  },
  {
   "cell_type": "code",
   "execution_count": 38,
   "id": "d61cfad7",
   "metadata": {},
   "outputs": [
    {
     "name": "stdout",
     "output_type": "stream",
     "text": [
      "{1, 3, 4, 99, 7, 8}\n"
     ]
    }
   ],
   "source": [
    "print(set_1)\n",
    "set_1.discard(66)"
   ]
  },
  {
   "cell_type": "markdown",
   "id": "3e0cbcfc",
   "metadata": {},
   "source": [
    "### 3. 集合的运算\n",
    "> > 1. 集合的交集\n",
    "> > 2. 集合的并集\n",
    "> > 3. 集合的差集"
   ]
  },
  {
   "cell_type": "code",
   "execution_count": 59,
   "id": "54b18b5c",
   "metadata": {},
   "outputs": [
    {
     "name": "stdout",
     "output_type": "stream",
     "text": [
      "set_1: {1, 2, 3, 4, 5, 6, 7}\n",
      "set_2: {0, 1, 66, 3, 4, 7, 8}\n"
     ]
    }
   ],
   "source": [
    "set_1 = set([1,2,5,6,7,2,3,2,4,4])\n",
    "set_2 = set([1,3,4,0,8,66,7])\n",
    "print(\"set_1:\",set_1)\n",
    "print(\"set_2:\",set_2)"
   ]
  },
  {
   "cell_type": "markdown",
   "id": "169d7f41",
   "metadata": {},
   "source": [
    ">>  使用集合的方法：\n",
    ">> 1. set_1.intersection(set_2)\n",
    ">> 2. set_1 & set_2"
   ]
  },
  {
   "cell_type": "code",
   "execution_count": 60,
   "id": "c702a65f",
   "metadata": {},
   "outputs": [
    {
     "name": "stdout",
     "output_type": "stream",
     "text": [
      "Help on built-in function intersection:\n",
      "\n",
      "intersection(...) method of builtins.set instance\n",
      "    Return the intersection of two sets as a new set.\n",
      "    \n",
      "    (i.e. all elements that are in both sets.)\n",
      "\n"
     ]
    }
   ],
   "source": [
    "help(set_1.intersection)"
   ]
  },
  {
   "cell_type": "code",
   "execution_count": 63,
   "id": "282b1cb6",
   "metadata": {},
   "outputs": [
    {
     "data": {
      "text/plain": [
       "{0, 1, 2, 3, 4, 5, 6, 7, 8, 66}"
      ]
     },
     "execution_count": 63,
     "metadata": {},
     "output_type": "execute_result"
    }
   ],
   "source": [
    "set_1|set_2"
   ]
  },
  {
   "cell_type": "code",
   "execution_count": 64,
   "id": "d9690b59",
   "metadata": {},
   "outputs": [
    {
     "data": {
      "text/plain": [
       "{1, 3, 4, 7}"
      ]
     },
     "execution_count": 64,
     "metadata": {},
     "output_type": "execute_result"
    }
   ],
   "source": [
    "set_1 & set_2"
   ]
  },
  {
   "cell_type": "code",
   "execution_count": 65,
   "id": "a943dd2e",
   "metadata": {},
   "outputs": [
    {
     "data": {
      "text/plain": [
       "{1, 3, 4, 7}"
      ]
     },
     "execution_count": 65,
     "metadata": {},
     "output_type": "execute_result"
    }
   ],
   "source": [
    "set_1.intersection(set_2)"
   ]
  },
  {
   "cell_type": "code",
   "execution_count": 66,
   "id": "0ca2b109",
   "metadata": {},
   "outputs": [
    {
     "data": {
      "text/plain": [
       "{0, 1, 2, 3, 4, 5, 6, 7, 8, 66}"
      ]
     },
     "execution_count": 66,
     "metadata": {},
     "output_type": "execute_result"
    }
   ],
   "source": [
    "set_1.union(set_2)"
   ]
  },
  {
   "cell_type": "code",
   "execution_count": 69,
   "id": "f82d701d",
   "metadata": {},
   "outputs": [
    {
     "name": "stdout",
     "output_type": "stream",
     "text": [
      "开始时间: 1637810988.3031237\n",
      "{0, 1, 2, 3, 4, 5, 6, 7, 66, 8}\n",
      "{1, 3, 4, 7}\n",
      "{1, 3, 4, 7}\n",
      "{0, 1, 2, 3, 4, 5, 6, 7, 66, 8}\n",
      "运行结束时间: 0.0\n"
     ]
    }
   ],
   "source": [
    "import time\n",
    "start_time = time.time()\n",
    "print(\"开始时间:\",start_time)\n",
    "print(set_1|set_2)\n",
    "print(set_1 & set_2)\n",
    "print(set_1.intersection(set_2))\n",
    "print(set_1.union(set_2))\n",
    "stop_time = time.time()\n",
    "print(\"运行结束时间:\",stop_time-start_time)"
   ]
  },
  {
   "cell_type": "code",
   "execution_count": 70,
   "id": "8705465a",
   "metadata": {},
   "outputs": [
    {
     "data": {
      "text/plain": [
       "{2, 5, 6}"
      ]
     },
     "execution_count": 70,
     "metadata": {},
     "output_type": "execute_result"
    }
   ],
   "source": [
    "set_1 - set_2"
   ]
  },
  {
   "cell_type": "code",
   "execution_count": 72,
   "id": "4d0ed1b1",
   "metadata": {},
   "outputs": [
    {
     "data": {
      "text/plain": [
       "{2, 5, 6}"
      ]
     },
     "execution_count": 72,
     "metadata": {},
     "output_type": "execute_result"
    }
   ],
   "source": [
    "set_1.difference(set_2)"
   ]
  },
  {
   "cell_type": "code",
   "execution_count": 73,
   "id": "0a3c5c59",
   "metadata": {},
   "outputs": [
    {
     "data": {
      "text/plain": [
       "{0, 8, 66}"
      ]
     },
     "execution_count": 73,
     "metadata": {},
     "output_type": "execute_result"
    }
   ],
   "source": [
    "set_2-set_1"
   ]
  },
  {
   "cell_type": "code",
   "execution_count": 74,
   "id": "db7ddaf0",
   "metadata": {},
   "outputs": [
    {
     "data": {
      "text/plain": [
       "{0, 2, 5, 6, 8, 66}"
      ]
     },
     "execution_count": 74,
     "metadata": {},
     "output_type": "execute_result"
    }
   ],
   "source": [
    "set_1.symmetric_difference(set_2)"
   ]
  },
  {
   "cell_type": "code",
   "execution_count": 75,
   "id": "a929d437",
   "metadata": {},
   "outputs": [
    {
     "data": {
      "text/plain": [
       "{0, 2, 5, 6, 8, 66}"
      ]
     },
     "execution_count": 75,
     "metadata": {},
     "output_type": "execute_result"
    }
   ],
   "source": [
    "set_1^set_2"
   ]
  },
  {
   "cell_type": "markdown",
   "id": "5b49ccc4",
   "metadata": {},
   "source": [
    "# 课本练习\n"
   ]
  },
  {
   "cell_type": "code",
   "execution_count": 9,
   "id": "eb7e84f7",
   "metadata": {},
   "outputs": [
    {
     "name": "stdout",
     "output_type": "stream",
     "text": [
      "Provide a word to search for vowels: iuytrtyuio\n",
      "a was found 0 time(s).\n",
      "e was found 0 time(s).\n",
      "i was found 2 time(s).\n",
      "o was found 1 time(s).\n",
      "u was found 2 time(s).\n"
     ]
    }
   ],
   "source": [
    "vowels = ['a', 'e', 'i', 'o', 'u']\n",
    "word = input(\"Provide a word to search for vowels: \")\n",
    "\n",
    "found = {}\n",
    "found['a'] = 0\n",
    "found['e'] = 0\n",
    "found['i'] = 0\n",
    "found['o'] = 0\n",
    "found['u'] = 0\n",
    "\n",
    "for letter in word:\n",
    "    if letter in vowels:\n",
    "        found[letter] += 1\n",
    "for k, v in sorted(found.items()):\n",
    "    print(k, 'was found', v, 'time(s).')"
   ]
  },
  {
   "cell_type": "code",
   "execution_count": 12,
   "id": "2998d8f3",
   "metadata": {},
   "outputs": [
    {
     "name": "stdout",
     "output_type": "stream",
     "text": [
      "Provide a word to search for vowels: \n"
     ]
    }
   ],
   "source": [
    "vowels = ['a', 'e', 'i', 'o', 'u']\n",
    "word = input(\"Provide a word to search for vowels: \")\n",
    "found = {}\n",
    "for letter in word:\n",
    "    if letter in vowels:\n",
    "        found[letter] += 1\n",
    "for k, v in sorted(found.items()):\n",
    "    print(k, 'was found', v, 'time(s).')\n",
    "\n"
   ]
  },
  {
   "cell_type": "code",
   "execution_count": 13,
   "id": "25d67ee7",
   "metadata": {},
   "outputs": [
    {
     "name": "stdout",
     "output_type": "stream",
     "text": [
      "Provide a word to search for vowels: poiu7y6t5re\n",
      "e was found 1 time(s).\n",
      "i was found 1 time(s).\n",
      "o was found 1 time(s).\n",
      "u was found 1 time(s).\n"
     ]
    }
   ],
   "source": [
    "vowels = ['a', 'e', 'i', 'o', 'u']\n",
    "word = input(\"Provide a word to search for vowels: \")\n",
    "found = {}\n",
    "for letter in word:\n",
    "    if letter in vowels:\n",
    "        found.setdefault(letter, 0)\n",
    "        found[letter] += 1\n",
    "for k, v in sorted(found.items()):\n",
    "    print(k, 'was found', v, 'time(s).')"
   ]
  },
  {
   "cell_type": "code",
   "execution_count": null,
   "id": "04fd5aae",
   "metadata": {},
   "outputs": [],
   "source": []
  }
 ],
 "metadata": {
  "kernelspec": {
   "display_name": "Python 3",
   "language": "python",
   "name": "python3"
  },
  "language_info": {
   "codemirror_mode": {
    "name": "ipython",
    "version": 3
   },
   "file_extension": ".py",
   "mimetype": "text/x-python",
   "name": "python",
   "nbconvert_exporter": "python",
   "pygments_lexer": "ipython3",
   "version": "3.8.8"
  },
  "toc": {
   "base_numbering": 1,
   "nav_menu": {},
   "number_sections": true,
   "sideBar": true,
   "skip_h1_title": false,
   "title_cell": "Table of Contents",
   "title_sidebar": "Contents",
   "toc_cell": false,
   "toc_position": {},
   "toc_section_display": true,
   "toc_window_display": false
  }
 },
 "nbformat": 4,
 "nbformat_minor": 5
}
