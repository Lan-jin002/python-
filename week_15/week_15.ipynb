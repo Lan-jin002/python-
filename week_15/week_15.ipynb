{
 "cells": [
  {
   "cell_type": "markdown",
   "id": "dcded456",
   "metadata": {},
   "source": [
    "# 上周回顾\n",
    "> 1. 函数的定义\n",
    "> 2. 函数名定义规则-->变量名一样的规则\n",
    "> 3. 调用函数的方式： func_name(参数)\n",
    "> 4. 参数：\n",
    ">> 1. 形式参数（定义函数）\n",
    ">> 2. 实际参数（调用函数）"
   ]
  },
  {
   "cell_type": "markdown",
   "id": "d94de154",
   "metadata": {},
   "source": [
    "# 本周知识\n",
    "> 1. 函数的返回值\n",
    "> 2. \n",
    "> 3. 函数的返回参数类型\n",
    "> 4. 模块的概念\n",
    "> 5. 创建模块并调用"
   ]
  },
  {
   "cell_type": "markdown",
   "id": "7c33684d",
   "metadata": {},
   "source": [
    "##  函数的返回值\n",
    "> 1. 返回关键字：return\n",
    ">> 1. **函数一定有返回值（无论是什么编程语言）**\n",
    ">> 2. **返回值一定要写，python如果不写，给定默认值None**\n",
    ">> 3. 返回值一般为函数体运行的结果（result）（函数返回值实践1）；也可以是自定义的函数返回值（实践2）"
   ]
  },
  {
   "cell_type": "code",
   "execution_count": 2,
   "id": "53290fa0",
   "metadata": {},
   "outputs": [],
   "source": [
    "# 函数返回值实践1\n",
    "def get_formatted_name(first_name,last_name):\n",
    "    full_name = first_name+\" \"+last_name\n",
    "#     print(full_name)\n",
    "    return full_name"
   ]
  },
  {
   "cell_type": "code",
   "execution_count": 3,
   "id": "336590a8",
   "metadata": {},
   "outputs": [
    {
     "data": {
      "text/plain": [
       "'oh wa'"
      ]
     },
     "execution_count": 3,
     "metadata": {},
     "output_type": "execute_result"
    }
   ],
   "source": [
    "get_formatted_name(\"oh\",\"wa\")"
   ]
  },
  {
   "cell_type": "code",
   "execution_count": 4,
   "id": "5a22b1b6",
   "metadata": {},
   "outputs": [
    {
     "name": "stdout",
     "output_type": "stream",
     "text": [
      "yes no\n"
     ]
    }
   ],
   "source": [
    "print(get_formatted_name(\"yes\",\"no\"))"
   ]
  },
  {
   "cell_type": "code",
   "execution_count": 7,
   "id": "96dcda04",
   "metadata": {},
   "outputs": [],
   "source": [
    "# 函数返回值实践2\n",
    "def log_in(username,password):\n",
    "    if username == \"bluejin\" and password == 123456:\n",
    "        return 1\n",
    "    \n",
    "    else:\n",
    "        return 0"
   ]
  },
  {
   "cell_type": "code",
   "execution_count": 8,
   "id": "793ed3c7",
   "metadata": {},
   "outputs": [
    {
     "data": {
      "text/plain": [
       "0"
      ]
     },
     "execution_count": 8,
     "metadata": {},
     "output_type": "execute_result"
    }
   ],
   "source": [
    "log_in(\"bluejin\",1234567)"
   ]
  },
  {
   "cell_type": "markdown",
   "id": "63bcef8d",
   "metadata": {},
   "source": [
    "## 函数的输入参数类型\n",
    "\n",
    "> 1. 函数可以输入复杂的参数(列表、字典、集合、元组等)：\n",
    ">> 1. 函数参数为列表\n",
    ">> 2. 函数参数为字典\n"
   ]
  },
  {
   "cell_type": "code",
   "execution_count": 9,
   "id": "bbcb47ea",
   "metadata": {},
   "outputs": [],
   "source": [
    "def test_A(names):\n",
    "    return names"
   ]
  },
  {
   "cell_type": "code",
   "execution_count": 10,
   "id": "3f0b97da",
   "metadata": {},
   "outputs": [
    {
     "data": {
      "text/plain": [
       "['Aihei', 'Wao', 'Wuhu']"
      ]
     },
     "execution_count": 10,
     "metadata": {},
     "output_type": "execute_result"
    }
   ],
   "source": [
    "test_A([\"Aihei\",\"Wao\",\"Wuhu\"])"
   ]
  },
  {
   "cell_type": "code",
   "execution_count": 11,
   "id": "cb5ae00b",
   "metadata": {},
   "outputs": [],
   "source": [
    "def test_B(person):\n",
    "    return person"
   ]
  },
  {
   "cell_type": "code",
   "execution_count": 12,
   "id": "e3f349e4",
   "metadata": {},
   "outputs": [
    {
     "data": {
      "text/plain": [
       "{'stud_id': 2021, 'age': 180, 'job': 'student'}"
      ]
     },
     "execution_count": 12,
     "metadata": {},
     "output_type": "execute_result"
    }
   ],
   "source": [
    "test_B({\"stud_id\":2021,\"age\":180,\"job\":\"student\"})"
   ]
  },
  {
   "cell_type": "markdown",
   "id": "81df21f4",
   "metadata": {},
   "source": [
    "> 2. 函数可以输入不确定个数的参数：\n",
    ">> 1. *args\n",
    ">>> 1. args 可以接受多个数据（单值）\n",
    ">>> 2. args 将多个数据存在一个**元组**中，实际还是一个变量\n",
    "\n",
    ">> 2. ** kwargs\n",
    ">>> 1. kwargs 可以接受多个数据（键值对）==>关键字参数\n",
    ">>> 2. kwarge 将多个键值对的数据存放在一个**字典**中，实际上还是一个变量"
   ]
  },
  {
   "cell_type": "code",
   "execution_count": 13,
   "id": "20c2499f",
   "metadata": {},
   "outputs": [],
   "source": [
    "def food_ingred(food,*ingreds):\n",
    "    return food,ingreds"
   ]
  },
  {
   "cell_type": "code",
   "execution_count": 14,
   "id": "1281c439",
   "metadata": {},
   "outputs": [
    {
     "data": {
      "text/plain": [
       "('pizza', ('mushiroom', 'green peppers'))"
      ]
     },
     "execution_count": 14,
     "metadata": {},
     "output_type": "execute_result"
    }
   ],
   "source": [
    "food_ingred(\"pizza\",\"mushiroom\",\"green peppers\")"
   ]
  },
  {
   "cell_type": "code",
   "execution_count": 15,
   "id": "89378520",
   "metadata": {},
   "outputs": [],
   "source": [
    "def person(stud_name,**stud_course):\n",
    "    return stud_name,stud_course"
   ]
  },
  {
   "cell_type": "code",
   "execution_count": 16,
   "id": "5e93ee1d",
   "metadata": {},
   "outputs": [
    {
     "data": {
      "text/plain": [
       "('WAO', {'course_星期一': 'API', 'course_星期二': 'app'})"
      ]
     },
     "execution_count": 16,
     "metadata": {},
     "output_type": "execute_result"
    }
   ],
   "source": [
    "person(\"WAO\",course_星期一= \"API\",course_星期二= \"app\")"
   ]
  },
  {
   "cell_type": "code",
   "execution_count": null,
   "id": "826b0514",
   "metadata": {},
   "outputs": [],
   "source": []
  },
  {
   "cell_type": "markdown",
   "id": "cdbe4db6",
   "metadata": {},
   "source": [
    "## 函数的输出（返回值）参数类型\n",
    "\n",
    "> 1. **在编程语言中函数返回值只能是一个值**\n",
    "> 2. 返回值可以是字符串，数值，列表，字典等（单一值）\n",
    "\n"
   ]
  },
  {
   "cell_type": "code",
   "execution_count": 17,
   "id": "35d56d49",
   "metadata": {},
   "outputs": [],
   "source": [
    "def test1_return():\n",
    "    return\"你好\""
   ]
  },
  {
   "cell_type": "code",
   "execution_count": 18,
   "id": "bb79a54e",
   "metadata": {},
   "outputs": [
    {
     "data": {
      "text/plain": [
       "'你好'"
      ]
     },
     "execution_count": 18,
     "metadata": {},
     "output_type": "execute_result"
    }
   ],
   "source": [
    "test1_return()"
   ]
  },
  {
   "cell_type": "code",
   "execution_count": 19,
   "id": "24b0ec0b",
   "metadata": {},
   "outputs": [],
   "source": [
    "def test2_return():\n",
    "    return 88888"
   ]
  },
  {
   "cell_type": "code",
   "execution_count": 20,
   "id": "6ff9bb41",
   "metadata": {},
   "outputs": [
    {
     "data": {
      "text/plain": [
       "88888"
      ]
     },
     "execution_count": 20,
     "metadata": {},
     "output_type": "execute_result"
    }
   ],
   "source": [
    "test2_return()"
   ]
  },
  {
   "cell_type": "code",
   "execution_count": 21,
   "id": "f08ca05e",
   "metadata": {},
   "outputs": [],
   "source": [
    "def test3_return():\n",
    "    return [\"Aihei\",\"Wao\",\"Wuhu\"]"
   ]
  },
  {
   "cell_type": "code",
   "execution_count": 22,
   "id": "600cad2b",
   "metadata": {},
   "outputs": [
    {
     "data": {
      "text/plain": [
       "['Aihei', 'Wao', 'Wuhu']"
      ]
     },
     "execution_count": 22,
     "metadata": {},
     "output_type": "execute_result"
    }
   ],
   "source": [
    "test3_return()"
   ]
  },
  {
   "cell_type": "code",
   "execution_count": 23,
   "id": "87e93998",
   "metadata": {},
   "outputs": [],
   "source": [
    "def test4_return():\n",
    "    return {\"stud_id\":2021,\"age\":180,\"job\":\"student\"}"
   ]
  },
  {
   "cell_type": "code",
   "execution_count": 24,
   "id": "13585dd7",
   "metadata": {},
   "outputs": [
    {
     "data": {
      "text/plain": [
       "{'stud_id': 2021, 'age': 180, 'job': 'student'}"
      ]
     },
     "execution_count": 24,
     "metadata": {},
     "output_type": "execute_result"
    }
   ],
   "source": [
    "test4_return()"
   ]
  },
  {
   "cell_type": "code",
   "execution_count": 25,
   "id": "2075e664",
   "metadata": {},
   "outputs": [],
   "source": [
    "# ******** return后面有多个值回，会返回一个元组，不违反公理\n",
    "def test5_return():\n",
    "    \"\"\"测试返回值为多个值的情况\"\"\"\n",
    "    return 18,\"Lanjin\",[\"Aihei\",\"Wao\",\"Wuhu\"],{\"stud_id\":2021,\"age\":180,\"job\":\"student\"}"
   ]
  },
  {
   "cell_type": "code",
   "execution_count": 26,
   "id": "2d99aac0",
   "metadata": {},
   "outputs": [
    {
     "data": {
      "text/plain": [
       "(18,\n",
       " 'Lanjin',\n",
       " ['Aihei', 'Wao', 'Wuhu'],\n",
       " {'stud_id': 2021, 'age': 180, 'job': 'student'})"
      ]
     },
     "execution_count": 26,
     "metadata": {},
     "output_type": "execute_result"
    }
   ],
   "source": [
    "test5_return()"
   ]
  },
  {
   "cell_type": "markdown",
   "id": "c8d820c4",
   "metadata": {},
   "source": [
    "## 模块"
   ]
  },
  {
   "cell_type": "code",
   "execution_count": 27,
   "id": "325078c7",
   "metadata": {},
   "outputs": [],
   "source": [
    "import study"
   ]
  },
  {
   "cell_type": "code",
   "execution_count": 28,
   "id": "bf22e5f2",
   "metadata": {},
   "outputs": [
    {
     "data": {
      "text/plain": [
       "{'i', 'o', 'u'}"
      ]
     },
     "execution_count": 28,
     "metadata": {},
     "output_type": "execute_result"
    }
   ],
   "source": [
    "study.search4vowels(\"fyuiol\")"
   ]
  },
  {
   "cell_type": "code",
   "execution_count": null,
   "id": "7f2d7fa7",
   "metadata": {},
   "outputs": [],
   "source": []
  }
 ],
 "metadata": {
  "kernelspec": {
   "display_name": "Python 3",
   "language": "python",
   "name": "python3"
  },
  "language_info": {
   "codemirror_mode": {
    "name": "ipython",
    "version": 3
   },
   "file_extension": ".py",
   "mimetype": "text/x-python",
   "name": "python",
   "nbconvert_exporter": "python",
   "pygments_lexer": "ipython3",
   "version": "3.8.8"
  },
  "toc": {
   "base_numbering": 1,
   "nav_menu": {},
   "number_sections": true,
   "sideBar": true,
   "skip_h1_title": false,
   "title_cell": "Table of Contents",
   "title_sidebar": "Contents",
   "toc_cell": false,
   "toc_position": {},
   "toc_section_display": true,
   "toc_window_display": false
  }
 },
 "nbformat": 4,
 "nbformat_minor": 5
}
