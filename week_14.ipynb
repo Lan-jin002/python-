{
 "cells": [
  {
   "cell_type": "markdown",
   "id": "c1d67675",
   "metadata": {},
   "source": [
    "# 函数\n",
    "\n",
    "## 函数的定义\n",
    "> 1. 数学：f(x)=ax+b\n",
    "> 2. python:def fib(x)：\n",
    "> 3. 编程思维 VS 数学思维\n",
    ">> 1. 函数可以被定义名称\n",
    ">> 2. 数学思维是卸载同一行\n",
    ">> 3. 数学函数一般没有注释，而编程过程中，一般需要对函数进行注释描述（docstring，课本P151）\n",
    ">> 4. 数学中：ax + b 是计算公式 ，而编程中，我们将函数的内容成为函数体,函数体要有一定的缩进\n",
    ">> 5. 数学函数执行，将参数带入公式 ， 编程中函数执行，将参数带入函数体\n",
    "## 函数的进阶\n"
   ]
  },
  {
   "cell_type": "code",
   "execution_count": 3,
   "id": "c6e25205",
   "metadata": {},
   "outputs": [],
   "source": [
    "# 斐波那契数列： 0 1 1 2 3 5 8 13 21 34 ...\n",
    "def fib(x):\n",
    "    \"\"\"列出指定x以内的斐波那契数列\"\"\"\n",
    "    a,b=0,1\n",
    "    while(a<x):\n",
    "        print(a,end=\"\")\n",
    "        a,b = b,a+b"
   ]
  },
  {
   "cell_type": "code",
   "execution_count": 4,
   "id": "a951ae17",
   "metadata": {},
   "outputs": [
    {
     "name": "stdout",
     "output_type": "stream",
     "text": [
      "01123581321345589"
     ]
    }
   ],
   "source": [
    "fib(100)"
   ]
  },
  {
   "cell_type": "code",
   "execution_count": 15,
   "id": "2c453d38",
   "metadata": {},
   "outputs": [],
   "source": [
    "# 实践：写函数，可以打印“你好，xxx同学”\n",
    "def f(x):\n",
    "    print(\"你好\",x,\"同学\")"
   ]
  },
  {
   "cell_type": "code",
   "execution_count": 16,
   "id": "dc4a1fed",
   "metadata": {},
   "outputs": [
    {
     "name": "stdout",
     "output_type": "stream",
     "text": [
      "你好 blue瑾 同学\n"
     ]
    }
   ],
   "source": [
    "f('blue瑾')"
   ]
  },
  {
   "cell_type": "markdown",
   "id": "101f336e",
   "metadata": {},
   "source": [
    "> 2. 调用函数名\n",
    ">> 1. 函数名\n",
    ">> 2. 参数可以不存在"
   ]
  },
  {
   "cell_type": "code",
   "execution_count": 17,
   "id": "29036d2c",
   "metadata": {},
   "outputs": [],
   "source": [
    "def hello():\n",
    "    print(\"hello,world\")"
   ]
  },
  {
   "cell_type": "code",
   "execution_count": 18,
   "id": "37d1725b",
   "metadata": {},
   "outputs": [
    {
     "name": "stdout",
     "output_type": "stream",
     "text": [
      "hello,world\n"
     ]
    }
   ],
   "source": [
    "hello()"
   ]
  },
  {
   "cell_type": "code",
   "execution_count": 19,
   "id": "c21ccf13",
   "metadata": {},
   "outputs": [],
   "source": [
    "# 回顾与思考\n",
    "import time"
   ]
  },
  {
   "cell_type": "code",
   "execution_count": 20,
   "id": "6478f10b",
   "metadata": {},
   "outputs": [],
   "source": [
    "# sleep()需要给定一个时间（int）参数\n",
    "time.sleep(3)"
   ]
  },
  {
   "cell_type": "code",
   "execution_count": 21,
   "id": "a2052dc7",
   "metadata": {},
   "outputs": [
    {
     "data": {
      "text/plain": [
       "time.struct_time(tm_year=2021, tm_mon=12, tm_mday=2, tm_hour=10, tm_min=47, tm_sec=9, tm_wday=3, tm_yday=336, tm_isdst=0)"
      ]
     },
     "execution_count": 21,
     "metadata": {},
     "output_type": "execute_result"
    }
   ],
   "source": [
    "# localtime()不需要给定参数\n",
    "time.localtime()"
   ]
  },
  {
   "cell_type": "markdown",
   "id": "ffc8b024",
   "metadata": {},
   "source": [
    "> 3. 函数的优势\n",
    ">> 1. 可以重复使用相同功能，避免重复\n",
    ">> 2. 使用者可以不了解函数本身\n",
    ">> 3. 使用/调用方便，只需清楚函数名"
   ]
  },
  {
   "cell_type": "markdown",
   "id": "c9bc2076",
   "metadata": {},
   "source": [
    "# 函数的参数"
   ]
  },
  {
   "cell_type": "markdown",
   "id": "5689d64c",
   "metadata": {},
   "source": [
    "> 1. 形式参数（形参）\n",
    ">> 1. 在**定义**函数的时候定义参数\n",
    ">> 2. 形式参数不占用内存\n",
    "> 2. 实际参数（实参）\n",
    ">> 1. 在**调用**函数的时候传递的参数\n",
    ">> 2. 调用函数时，形参分配空间，传递实际参数，执行函数内容"
   ]
  },
  {
   "cell_type": "code",
   "execution_count": 22,
   "id": "d52b4b94",
   "metadata": {},
   "outputs": [],
   "source": [
    "# 课本案例\n",
    "def search4vowels(word):\n",
    "    vowels = set(\"aeiou\")\n",
    "    word = set(word)\n",
    "    print(vowels & word)"
   ]
  },
  {
   "cell_type": "code",
   "execution_count": 25,
   "id": "49acf131",
   "metadata": {},
   "outputs": [
    {
     "name": "stdout",
     "output_type": "stream",
     "text": [
      "{'i', 'u', 'e', 'o'}\n"
     ]
    }
   ],
   "source": [
    "search4vowels(\"cwertyuio\")"
   ]
  },
  {
   "cell_type": "markdown",
   "id": "e67a0927",
   "metadata": {},
   "source": [
    "> 1. 位置参数\n",
    ">> 1. 在形式参数的定义中，有一定的先后顺序\n",
    ">> 2.在调用函数时，要考虑形参的先后顺序\n",
    ">> 3. 调用函数时，不仅要考虑参数位置，还需要考虑形式参数的个数\n",
    "> 2. 关键字参数\n",
    ">> 在调用函数时，关键字参数可以不考虑形式参数的位置\n",
    "> 3. 默认参数\n",
    ">> 1. 调用函数时，可以省略传递的参数信息\n",
    ">> 2. 调用函数时，如果给默认参数赋值，会替换默认参数的结果"
   ]
  },
  {
   "cell_type": "code",
   "execution_count": 2,
   "id": "7854cac4",
   "metadata": {},
   "outputs": [],
   "source": [
    "def describe_pet(pet_name,animal_type):\n",
    "    print(\"\\nI have a \" + animal_type + \".\")\n",
    "    print(\"My \" + animal_type + \"'s name is \"+ pet_name.title() + \".\")"
   ]
  },
  {
   "cell_type": "code",
   "execution_count": 3,
   "id": "c454c885",
   "metadata": {},
   "outputs": [
    {
     "name": "stdout",
     "output_type": "stream",
     "text": [
      "\n",
      "I have a dog.\n",
      "My dog's name is Hyx.\n"
     ]
    }
   ],
   "source": [
    "describe_pet(\"hyx\",\"dog\")"
   ]
  },
  {
   "cell_type": "code",
   "execution_count": 6,
   "id": "cc8fdcaa",
   "metadata": {},
   "outputs": [
    {
     "name": "stdout",
     "output_type": "stream",
     "text": [
      "\n",
      "I have a cat.\n",
      "My cat's name is Oss.\n"
     ]
    }
   ],
   "source": [
    "describe_pet(animal_type=\"cat\",pet_name=\"oss\")"
   ]
  },
  {
   "cell_type": "code",
   "execution_count": 7,
   "id": "53416ea3",
   "metadata": {},
   "outputs": [],
   "source": [
    "# 默认参数\n",
    "def describe_pet(pet_name,animal_type=\"dog\"):\n",
    "    print(\"\\nI have a \" + animal_type + \".\")\n",
    "    print(\"My \" + animal_type + \"'s name is \"+ pet_name.title() + \".\")"
   ]
  },
  {
   "cell_type": "code",
   "execution_count": 8,
   "id": "e3be7a39",
   "metadata": {},
   "outputs": [
    {
     "name": "stdout",
     "output_type": "stream",
     "text": [
      "\n",
      "I have a big dog.\n",
      "My big dog's name is Hxx.\n"
     ]
    }
   ],
   "source": [
    "describe_pet(\"hxx\",\"big dog\")"
   ]
  },
  {
   "cell_type": "markdown",
   "id": "65cc23ef",
   "metadata": {},
   "source": [
    "* 参数注意事项\n",
    "> 1.位置参数和关键字参数同时使用（调用函数）\n",
    ">> 1. positional argument follows keyword argument（关键字参数均应该放在位置参数之后）\n",
    ">> 2. 只要满足1的条件，剩余的关键字参数（多个）不考虑先后顺序\n",
    "\n",
    "> 2. 非默认参数和默认参数同时使用（定义函数）\n",
    ">> 1. non-default argument follows default argument（默认参数均应该放在非默认参数之后）\n",
    ">> 2. 只要满足1的条件，剩余的默认参数（多个）不考虑先后顺序"
   ]
  },
  {
   "cell_type": "code",
   "execution_count": 9,
   "id": "461375d6",
   "metadata": {},
   "outputs": [],
   "source": [
    "def test(x,y,z):\n",
    "    print(x)\n",
    "    print(y)\n",
    "    print(z)"
   ]
  },
  {
   "cell_type": "code",
   "execution_count": 40,
   "id": "7492d440",
   "metadata": {
    "scrolled": true
   },
   "outputs": [
    {
     "ename": "SyntaxError",
     "evalue": "positional argument follows keyword argument (<ipython-input-40-42371a9326bd>, line 2)",
     "output_type": "error",
     "traceback": [
      "\u001b[1;36m  File \u001b[1;32m\"<ipython-input-40-42371a9326bd>\"\u001b[1;36m, line \u001b[1;32m2\u001b[0m\n\u001b[1;33m    test(5,y=3,2)\u001b[0m\n\u001b[1;37m               ^\u001b[0m\n\u001b[1;31mSyntaxError\u001b[0m\u001b[1;31m:\u001b[0m positional argument follows keyword argument\n"
     ]
    }
   ],
   "source": [
    "# 实践1:\n",
    "test(5,y=3,2)"
   ]
  },
  {
   "cell_type": "code",
   "execution_count": 41,
   "id": "2e076908",
   "metadata": {},
   "outputs": [
    {
     "name": "stdout",
     "output_type": "stream",
     "text": [
      "5\n",
      "3\n",
      "2\n"
     ]
    }
   ],
   "source": [
    "# 实践2:\n",
    "test(5,3,z=2)"
   ]
  },
  {
   "cell_type": "code",
   "execution_count": 42,
   "id": "c02235e6",
   "metadata": {},
   "outputs": [
    {
     "name": "stdout",
     "output_type": "stream",
     "text": [
      "5\n",
      "3\n",
      "2\n"
     ]
    }
   ],
   "source": [
    "# 实践3:\n",
    "test(5,z=2,y=3)"
   ]
  },
  {
   "cell_type": "code",
   "execution_count": 53,
   "id": "30c64e5b",
   "metadata": {},
   "outputs": [],
   "source": [
    "# 测试2：\n",
    "def test(x,y=3,z=2):\n",
    "    print(x)\n",
    "    print(y)\n",
    "    print(z)"
   ]
  },
  {
   "cell_type": "code",
   "execution_count": 55,
   "id": "919a4e20",
   "metadata": {},
   "outputs": [
    {
     "name": "stdout",
     "output_type": "stream",
     "text": [
      "1\n",
      "5\n",
      "2\n"
     ]
    }
   ],
   "source": [
    "test(1,5)"
   ]
  },
  {
   "cell_type": "code",
   "execution_count": null,
   "id": "20994d50",
   "metadata": {},
   "outputs": [],
   "source": []
  }
 ],
 "metadata": {
  "kernelspec": {
   "display_name": "Python 3",
   "language": "python",
   "name": "python3"
  },
  "language_info": {
   "codemirror_mode": {
    "name": "ipython",
    "version": 3
   },
   "file_extension": ".py",
   "mimetype": "text/x-python",
   "name": "python",
   "nbconvert_exporter": "python",
   "pygments_lexer": "ipython3",
   "version": "3.8.8"
  },
  "toc": {
   "base_numbering": 1,
   "nav_menu": {},
   "number_sections": true,
   "sideBar": true,
   "skip_h1_title": false,
   "title_cell": "Table of Contents",
   "title_sidebar": "Contents",
   "toc_cell": false,
   "toc_position": {},
   "toc_section_display": true,
   "toc_window_display": false
  }
 },
 "nbformat": 4,
 "nbformat_minor": 5
}
