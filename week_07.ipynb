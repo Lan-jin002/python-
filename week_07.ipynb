{
 "cells": [
  {
   "cell_type": "code",
   "execution_count": 6,
   "id": "949938f8",
   "metadata": {},
   "outputs": [
    {
     "name": "stdout",
     "output_type": "stream",
     "text": [
      "Don't panic!\n",
      "['D', 'o', 'n', \"'\", 't', ' ', 'p', 'a', 'n', 'i', 'c', '!']\n"
     ]
    }
   ],
   "source": [
    "# 方法一：使用list的方法完成\n",
    "phrase = \"Don't panic!\"\n",
    "plist = list(phrase)   #list() 可以将 str  to （转）  list\n",
    "print(phrase)\n",
    "print(plist)\n",
    "\n"
   ]
  },
  {
   "cell_type": "code",
   "execution_count": 7,
   "id": "042e045d",
   "metadata": {},
   "outputs": [
    {
     "name": "stdout",
     "output_type": "stream",
     "text": [
      "['D', 'o', 'n', \"'\", 't', ' ', 'p', 'a']\n"
     ]
    }
   ],
   "source": [
    "# 1.删除后面四个元素   a n i c\n",
    "for item in range(4):\n",
    "    plist.pop()\n",
    "print(plist)\n"
   ]
  },
  {
   "cell_type": "code",
   "execution_count": 8,
   "id": "bd11b31e",
   "metadata": {},
   "outputs": [
    {
     "name": "stdout",
     "output_type": "stream",
     "text": [
      "['o', 'n', \"'\", 't', ' ', 'p', 'a']\n",
      "['o', 'n', 't', ' ', 'p', 'a']\n"
     ]
    }
   ],
   "source": [
    "# 2.删除 D ’\n",
    "plist.remove('D')\n",
    "print(plist)\n",
    "plist.pop(2)\n",
    "print(plist)\n",
    "\n"
   ]
  },
  {
   "cell_type": "code",
   "execution_count": 9,
   "id": "cd3f3a5a",
   "metadata": {},
   "outputs": [
    {
     "name": "stdout",
     "output_type": "stream",
     "text": [
      "['o', 'n', 't', ' ', 'a', 'p']\n"
     ]
    }
   ],
   "source": [
    "# 3.数学案例：  计算（（a+b）*（c+d））\n",
    "plist.extend([plist.pop(),plist.pop()])\n",
    "#  ['o','n','t',' '][ a  ,   p    ]\n",
    "print(plist)\n",
    "\n"
   ]
  },
  {
   "cell_type": "code",
   "execution_count": 10,
   "id": "bb90d080",
   "metadata": {},
   "outputs": [
    {
     "name": "stdout",
     "output_type": "stream",
     "text": [
      "['o', 'n', ' ', 't', 'a', 'p']\n"
     ]
    }
   ],
   "source": [
    "# 4.数据插入  实现：'t'和' '的位置转换\n",
    "plist.insert(2,plist.pop(3) )  # pop指的是要换掉的位置   insert（取的数，plist.pop(要换掉的数字)）\n",
    "print(plist)\n",
    "\n"
   ]
  },
  {
   "cell_type": "code",
   "execution_count": 11,
   "id": "62c896e9",
   "metadata": {},
   "outputs": [],
   "source": [
    "# 5.list to str\n",
    "new_phrase = ''.join(plist)     # join指的是字符串的合并"
   ]
  },
  {
   "cell_type": "code",
   "execution_count": null,
   "id": "a7561884",
   "metadata": {},
   "outputs": [],
   "source": []
  }
 ],
 "metadata": {
  "kernelspec": {
   "display_name": "Python 3",
   "language": "python",
   "name": "python3"
  },
  "language_info": {
   "codemirror_mode": {
    "name": "ipython",
    "version": 3
   },
   "file_extension": ".py",
   "mimetype": "text/x-python",
   "name": "python",
   "nbconvert_exporter": "python",
   "pygments_lexer": "ipython3",
   "version": "3.8.8"
  },
  "toc": {
   "base_numbering": 1,
   "nav_menu": {},
   "number_sections": true,
   "sideBar": true,
   "skip_h1_title": false,
   "title_cell": "Table of Contents",
   "title_sidebar": "Contents",
   "toc_cell": false,
   "toc_position": {},
   "toc_section_display": true,
   "toc_window_display": false
  }
 },
 "nbformat": 4,
 "nbformat_minor": 5
}
