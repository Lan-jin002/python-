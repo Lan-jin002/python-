{
 "cells": [
  {
   "cell_type": "markdown",
   "id": "2d7e38ce",
   "metadata": {},
   "source": [
    "-------------\n",
    "* 记录人：蓝瑾\n",
    "* 时间：2021-11-15\n",
    "* week12\n",
    "* 主要参考文档：\n",
    "> 1. [python官方文档]()\n",
    "> 2. [gitee课堂笔记]()"
   ]
  },
  {
   "cell_type": "markdown",
   "id": "ba28b8eb",
   "metadata": {},
   "source": [
    " # 本周内容\n",
    " \n",
    " ## 1. 字典的实践（一）\n",
    " \n",
    " * 课本P112-P113\n",
    " * 知识点：\n",
    " > 1. 利用字典计算词频\n",
    " > 2. 指定初始化内容\n"
   ]
  },
  {
   "cell_type": "code",
   "execution_count": 1,
   "id": "80516015",
   "metadata": {},
   "outputs": [
    {
     "name": "stdout",
     "output_type": "stream",
     "text": [
      "请输入一段文本，将统计元音字母出现的次数：\n",
      "{'a': 0, 'e': 0, 'i': 0, 'o': 0, 'u': 0}\n"
     ]
    }
   ],
   "source": [
    "# 在列表的基础上（列表可统计出现的内容有哪些）\n",
    "# 字典可统计出现的内容+出现的次数\n",
    "vowels = [\"a\",\"e\",\"i\",\"o\",\"u\"]\n",
    "word = input (\"请输入一段文本，将统计元音字母出现的次数：\")\n",
    "found ={}\n",
    "\n",
    "# 字典创建方法 dict_name[key]=value\n",
    "# found'[\"a\"]=0\n",
    "# found'[\"e\"]=0\n",
    "# found'[\"i\"]=0\n",
    "# found'[\"o\"]=0\n",
    "# found'[\"u\"]=0\n",
    "\n",
    "# for i in vowels:\n",
    "#     found[i] = 0\n",
    "found = found.fromkeys(vowels,0)\n",
    "\n",
    "for i in word:\n",
    "    if i in vowels:\n",
    "        found[i]+=1\n",
    "print(found)\n",
    "    \n",
    "    \n",
    "    \n",
    "    \n",
    "    "
   ]
  },
  {
   "cell_type": "code",
   "execution_count": 2,
   "id": "fd69a981",
   "metadata": {},
   "outputs": [
    {
     "name": "stdout",
     "output_type": "stream",
     "text": [
      "{'a': 0, 'e': 0, 'i': 0, 'o': 0, 'u': 0}\n"
     ]
    }
   ],
   "source": [
    "print(found)"
   ]
  },
  {
   "cell_type": "markdown",
   "id": "5075cc6b",
   "metadata": {},
   "source": [
    "> 1. 字典的高级用法：fromkeys（）\n",
    ">> 1. 给定序列数据作为key\n",
    ">> 2. 把所有**内容**进行初始化"
   ]
  },
  {
   "cell_type": "code",
   "execution_count": 3,
   "id": "6067e0fa",
   "metadata": {},
   "outputs": [
    {
     "name": "stdout",
     "output_type": "stream",
     "text": [
      "Help on built-in function fromkeys:\n",
      "\n",
      "fromkeys(iterable, value=None, /) method of builtins.type instance\n",
      "    Create a new dictionary with keys from iterable and values set to value.\n",
      "\n"
     ]
    }
   ],
   "source": [
    "help(found.fromkeys)"
   ]
  },
  {
   "cell_type": "code",
   "execution_count": 4,
   "id": "0475a271",
   "metadata": {},
   "outputs": [
    {
     "data": {
      "text/plain": [
       "{'bluejin': 0, 'redjin': 0, 'jinblue': 0, 'jinred': 0}"
      ]
     },
     "execution_count": 4,
     "metadata": {},
     "output_type": "execute_result"
    }
   ],
   "source": [
    "names_list = ['bluejin','redjin','jinblue','jinred']\n",
    "names_age_dict = {}\n",
    "names_age_dict.fromkeys(names_list,0)# 把一个序列作为字典的key然后初始化其值（默认为：None）,可以给定一个值"
   ]
  },
  {
   "cell_type": "markdown",
   "id": "6e73be76",
   "metadata": {},
   "source": [
    "## 2.字典实践（二）\n",
    "\n",
    "* 课本P121\n"
   ]
  },
  {
   "cell_type": "markdown",
   "id": "55b9a210",
   "metadata": {},
   "source": [
    "> 2. 字典的高级用法setdefault()\n",
    ">> 1. 如果字典中还没有该内容（item），新增该item作为字典的kye，默认值defaul = None，可以指定值的内容\n",
    ">> 2. 如果该内容（item）已经是字典的key，则不操作"
   ]
  },
  {
   "cell_type": "code",
   "execution_count": 5,
   "id": "265ac79c",
   "metadata": {},
   "outputs": [
    {
     "name": "stdout",
     "output_type": "stream",
     "text": [
      "Help on built-in function setdefault:\n",
      "\n",
      "setdefault(key, default=None, /) method of builtins.dict instance\n",
      "    Insert key with a value of default if key is not in the dictionary.\n",
      "    \n",
      "    Return the value for key if key is in the dictionary, else default.\n",
      "\n"
     ]
    }
   ],
   "source": [
    "help(names_age_dict.setdefault)"
   ]
  },
  {
   "cell_type": "code",
   "execution_count": null,
   "id": "a2a6edf9",
   "metadata": {},
   "outputs": [],
   "source": []
  },
  {
   "cell_type": "code",
   "execution_count": 6,
   "id": "6ee71fe8",
   "metadata": {},
   "outputs": [],
   "source": [
    "vowels = [\"a\",\"e\",\"i\",\"o\",\"u\"]\n",
    "found = {\n",
    "    'a':2\n",
    "}\n"
   ]
  },
  {
   "cell_type": "code",
   "execution_count": 7,
   "id": "adef4a40",
   "metadata": {},
   "outputs": [],
   "source": [
    "found = {'a':2}\n",
    "# found.setdefaule('e',3)"
   ]
  },
  {
   "cell_type": "code",
   "execution_count": 8,
   "id": "8ace8f06",
   "metadata": {},
   "outputs": [
    {
     "name": "stdout",
     "output_type": "stream",
     "text": [
      "Provide a word to search for vowels:ertyjkl\n"
     ]
    },
    {
     "data": {
      "text/plain": [
       "{'e': 1}"
      ]
     },
     "execution_count": 8,
     "metadata": {},
     "output_type": "execute_result"
    }
   ],
   "source": [
    "# 课本字典实践二\n",
    "vowels = [\"a\",\"e\",\"i\",\"o\",\"u\"]\n",
    "word = input(\"Provide a word to search for vowels:\")\n",
    "found = {}\n",
    "\n",
    "for letter in word:\n",
    "    if letter in vowels:\n",
    "        found.setdefault(letter,0)  \n",
    "        found[letter] +=1\n",
    "found"
   ]
  },
  {
   "cell_type": "code",
   "execution_count": 9,
   "id": "57698dfc",
   "metadata": {},
   "outputs": [
    {
     "name": "stdout",
     "output_type": "stream",
     "text": [
      "{'Arthur': {'Gender': 'Male',\n",
      "            'Home Planet': 'Earth',\n",
      "            'Name': 'Arthur Dent',\n",
      "            'Occupation': 'Sandwich-Maker'},\n",
      " 'Ford': {'Gender': 'Male',\n",
      "          'Home Planet': 'Betelgeuse Seven',\n",
      "          'Name': 'Ford Prefect',\n",
      "          'Occupation': 'Researcher'},\n",
      " 'Marvin': {'Gender': 'Unknown',\n",
      "            'Home Planet': 'Unknown',\n",
      "            'Name': 'Marvin',\n",
      "            'Occupation': 'Paranoid Android'},\n",
      " 'Tricia': {'Gender': 'Female',\n",
      "            'Home Planet': 'Earth',\n",
      "            'Name': 'Tricia McMillan',\n",
      "            'Occupation': 'Mathematician'}}\n"
     ]
    }
   ],
   "source": [
    "#Zhichao\n",
    "\n",
    "import pprint\n",
    "people = {}\n",
    "people['Ford'] = {\"Name\":'Ford Prefect',\n",
    "                  \"Gender\":'Male',\n",
    "                  \"Occupation\":'Researcher',\n",
    "                  \"Home Planet\":'Betelgeuse Seven'}\n",
    "people['Arthur'] = {\"Name\":'Arthur Dent',\n",
    "                  \"Gender\":'Male',\n",
    "                  \"Occupation\":'Sandwich-Maker',\n",
    "                  \"Home Planet\":'Earth'}\n",
    "people['Tricia'] = {\"Name\":'Tricia McMillan',\n",
    "                    \"Gender\":'Female',\n",
    "                    \"Occupation\":'Mathematician',\n",
    "                    \"Home Planet\":'Earth'}\n",
    "people['Marvin'] = {\"Name\":'Marvin',\n",
    "                    \"Gender\":'Unknown',\n",
    "                    \"Occupation\":'Paranoid Android',\n",
    "                    \"Home Planet\":'Unknown'}\n",
    "pprint.pprint(people)"
   ]
  },
  {
   "cell_type": "code",
   "execution_count": 10,
   "id": "513edb2b",
   "metadata": {},
   "outputs": [
    {
     "data": {
      "text/plain": [
       "'Earth'"
      ]
     },
     "execution_count": 10,
     "metadata": {},
     "output_type": "execute_result"
    }
   ],
   "source": [
    "people[ 'Tricia'][ 'Home Planet']\n"
   ]
  },
  {
   "cell_type": "code",
   "execution_count": 11,
   "id": "eae58838",
   "metadata": {},
   "outputs": [
    {
     "data": {
      "text/plain": [
       "dict_keys(['Ford', 'Arthur', 'Tricia', 'Marvin'])"
      ]
     },
     "execution_count": 11,
     "metadata": {},
     "output_type": "execute_result"
    }
   ],
   "source": [
    "# 查询字典中所有的key\n",
    "people.keys()"
   ]
  },
  {
   "cell_type": "code",
   "execution_count": 12,
   "id": "9b8b93d8",
   "metadata": {},
   "outputs": [
    {
     "data": {
      "text/plain": [
       "dict_values([{'Name': 'Ford Prefect', 'Gender': 'Male', 'Occupation': 'Researcher', 'Home Planet': 'Betelgeuse Seven'}, {'Name': 'Arthur Dent', 'Gender': 'Male', 'Occupation': 'Sandwich-Maker', 'Home Planet': 'Earth'}, {'Name': 'Tricia McMillan', 'Gender': 'Female', 'Occupation': 'Mathematician', 'Home Planet': 'Earth'}, {'Name': 'Marvin', 'Gender': 'Unknown', 'Occupation': 'Paranoid Android', 'Home Planet': 'Unknown'}])"
      ]
     },
     "execution_count": 12,
     "metadata": {},
     "output_type": "execute_result"
    }
   ],
   "source": [
    "# 查看字典中所有的value\n",
    "people.values()"
   ]
  },
  {
   "cell_type": "code",
   "execution_count": 13,
   "id": "aaaa98d8",
   "metadata": {},
   "outputs": [],
   "source": [
    "广州南方学院 = {'status': '1',\n",
    " 'regeocode': {'roads': [{'id': '020F49F0050461206',\n",
    "    'location': '113.678,23.6284',\n",
    "    'direction': '北',\n",
    "    'name': '博学路',\n",
    "    'distance': '7.63232'},\n",
    "   {'id': '020F49F0050462229',\n",
    "    'location': '113.679,23.6245',\n",
    "    'direction': '北',\n",
    "    'name': '老虎形街',\n",
    "    'distance': '445.159'},\n",
    "   {'id': '020F49F0050462451',\n",
    "    'location': '113.677,23.6347',\n",
    "    'direction': '南',\n",
    "    'name': '中山路',\n",
    "    'distance': '708.299'}],\n",
    "  'roadinters': [{'second_name': '中山路',\n",
    "    'first_id': '020F49F0050461206',\n",
    "    'second_id': '020F49F0050462451',\n",
    "    'location': '113.676794,23.634661',\n",
    "    'distance': '708.299',\n",
    "    'first_name': '博学路',\n",
    "    'direction': '南'}],\n",
    "  'formatted_address': '广东省广州市从化区温泉镇博学路',\n",
    "  'addressComponent': {'city': '广州市',\n",
    "   'province': '广东省',\n",
    "   'adcode': '440117',\n",
    "   'district': '从化区',\n",
    "   'towncode': '440117100000',\n",
    "   'streetNumber': {'number': '24号',\n",
    "    'location': '113.677267,23.629149',\n",
    "    'direction': '西北',\n",
    "    'distance': '129.943',\n",
    "    'street': '博学路'},\n",
    "   'country': '中国',\n",
    "   'township': '温泉镇',\n",
    "   'businessAreas': [[]],\n",
    "   'building': {'name': [], 'type': []},\n",
    "   'neighborhood': {'name': [], 'type': []},\n",
    "   'citycode': '020'},\n",
    "  'aois': [],\n",
    "  'pois': [{'id': 'B0FFG4TAF2',\n",
    "    'direction': '东南',\n",
    "    'businessarea': [],\n",
    "    'address': '温泉镇乌土村松浪队5号(近博学路)',\n",
    "    'poiweight': '0.237309',\n",
    "    'name': '广州南方公寓',\n",
    "    'location': '113.678983,23.627778',\n",
    "    'distance': '102.617',\n",
    "    'tel': '13622768437',\n",
    "    'type': '商务住宅;住宅区;住宅小区'},\n",
    "   {'id': 'B0H6FA18J5',\n",
    "    'direction': '东南',\n",
    "    'businessarea': [],\n",
    "    'address': '从莞深高速(广州南方学院南侧)',\n",
    "    'poiweight': '0.223065',\n",
    "    'name': '保利半山花园',\n",
    "    'location': '113.679358,23.627672',\n",
    "    'distance': '139.054',\n",
    "    'tel': [],\n",
    "    'type': '商务住宅;住宅区;住宅区'},\n",
    "   {'id': 'B00140TWHT',\n",
    "    'direction': '北',\n",
    "    'businessarea': [],\n",
    "    'address': '笃行路2',\n",
    "    'poiweight': '0.157653',\n",
    "    'name': '教工住宅1号',\n",
    "    'location': '113.678490,23.630432',\n",
    "    'distance': '222.658',\n",
    "    'tel': [],\n",
    "    'type': '商务住宅;住宅区;住宅小区'},\n",
    "   {'id': 'B0FFHRJDM9',\n",
    "    'direction': '东南',\n",
    "    'businessarea': [],\n",
    "    'address': '中大南方学院南门1号',\n",
    "    'poiweight': '0.256152',\n",
    "    'name': '中南公寓',\n",
    "    'location': '113.680349,23.627573',\n",
    "    'distance': '231.723',\n",
    "    'tel': '13711245345',\n",
    "    'type': '商务住宅;住宅区;住宅小区'},\n",
    "   {'id': 'B0HGD588HJ',\n",
    "    'direction': '北',\n",
    "    'businessarea': [],\n",
    "    'address': '博学路',\n",
    "    'poiweight': '0.221662',\n",
    "    'name': '广州南方学院教学楼4号',\n",
    "    'location': '113.677460,23.630490',\n",
    "    'distance': '242.901',\n",
    "    'tel': [],\n",
    "    'type': '科教文化服务;学校;学校'},\n",
    "   {'id': 'B0FFHZH0IK',\n",
    "    'direction': '西北',\n",
    "    'businessarea': [],\n",
    "    'address': '博学路广州南方学院综合楼内',\n",
    "    'poiweight': '0.17934',\n",
    "    'name': '地下铁',\n",
    "    'location': '113.677941,23.629029',\n",
    "    'distance': '74.1376',\n",
    "    'tel': [],\n",
    "    'type': '餐饮服务;冷饮店;冷饮店'},\n",
    "   {'id': 'B0HGDU76L2',\n",
    "    'direction': '北',\n",
    "    'businessarea': [],\n",
    "    'address': '博学路',\n",
    "    'poiweight': '0.221662',\n",
    "    'name': '广州南方学院2号实验楼',\n",
    "    'location': '113.678211,23.630956',\n",
    "    'distance': '280.003',\n",
    "    'tel': [],\n",
    "    'type': '科教文化服务;学校;学校'},\n",
    "   {'id': 'B0FFKP838K',\n",
    "    'direction': '北',\n",
    "    'businessarea': [],\n",
    "    'address': '博学路25',\n",
    "    'poiweight': '0.191742',\n",
    "    'name': '教学楼3号(外国语学院)',\n",
    "    'location': '113.677247,23.630947',\n",
    "    'distance': '298.093',\n",
    "    'tel': [],\n",
    "    'type': '科教文化服务;学校;高等院校'},\n",
    "   {'id': 'B0HGDU8NLD',\n",
    "    'direction': '北',\n",
    "    'businessarea': [],\n",
    "    'address': '博学路附近',\n",
    "    'poiweight': '0.221662',\n",
    "    'name': '广州南方学院1号实验楼',\n",
    "    'location': '113.678215,23.631370',\n",
    "    'distance': '326.007',\n",
    "    'tel': [],\n",
    "    'type': '科教文化服务;学校;学校'},\n",
    "   {'id': 'B0HGD58UTU',\n",
    "    'direction': '西北',\n",
    "    'businessarea': [],\n",
    "    'address': '博学路',\n",
    "    'poiweight': '0.191229',\n",
    "    'name': '广州南方学院2号教学楼',\n",
    "    'location': '113.677060,23.631346',\n",
    "    'distance': '346.352',\n",
    "    'tel': [],\n",
    "    'type': '科教文化服务;学校;学校'},\n",
    "   {'id': 'B00140MR9A',\n",
    "    'direction': '北',\n",
    "    'businessarea': [],\n",
    "    'address': '温泉大道882号',\n",
    "    'poiweight': '0.450402',\n",
    "    'name': '广州南方学院',\n",
    "    'location': '113.679262,23.632583',\n",
    "    'distance': '471.564',\n",
    "    'tel': '020-87828988;020-61787331',\n",
    "    'type': '科教文化服务;学校;高等院校'},\n",
    "   {'id': 'B0HGDU92JD',\n",
    "    'direction': '北',\n",
    "    'businessarea': [],\n",
    "    'address': [],\n",
    "    'poiweight': '0.221662',\n",
    "    'name': '广州南方学院教学楼1号',\n",
    "    'location': '113.677077,23.631783',\n",
    "    'distance': '391.548',\n",
    "    'tel': [],\n",
    "    'type': '科教文化服务;学校;学校'},\n",
    "   {'id': 'B0HGD592BJ',\n",
    "    'direction': '东北',\n",
    "    'businessarea': [],\n",
    "    'address': '温泉大道886号广州南方学院内',\n",
    "    'poiweight': '0.221662',\n",
    "    'name': '广州南方学院综合楼',\n",
    "    'location': '113.680117,23.631544',\n",
    "    'distance': '392.731',\n",
    "    'tel': [],\n",
    "    'type': '科教文化服务;学校;学校'},\n",
    "   {'id': 'B0FFKP81F0',\n",
    "    'direction': '西北',\n",
    "    'businessarea': [],\n",
    "    'address': '博学路19号附近',\n",
    "    'poiweight': '0.191742',\n",
    "    'name': '教学楼1号(文学与传媒学院)',\n",
    "    'location': '113.676866,23.631736',\n",
    "    'distance': '393.93',\n",
    "    'tel': [],\n",
    "    'type': '科教文化服务;科教文化场所;科教文化场所'},\n",
    "   {'id': 'B0FFLBEOND',\n",
    "    'direction': '东北',\n",
    "    'businessarea': [],\n",
    "    'address': '从莞深高速(广州南方学院)',\n",
    "    'poiweight': '0.190963',\n",
    "    'name': '聚贤楼10号',\n",
    "    'location': '113.681253,23.631036',\n",
    "    'distance': '418.51',\n",
    "    'tel': [],\n",
    "    'type': '商务住宅;住宅区;宿舍'},\n",
    "   {'id': 'B0FFH6K3U9',\n",
    "    'direction': '西北',\n",
    "    'businessarea': [],\n",
    "    'address': '温泉镇温泉大道882号广州南方学院H7栋1-5层',\n",
    "    'poiweight': '0.254885',\n",
    "    'name': '广州中大南方招待所',\n",
    "    'location': '113.676330,23.631332',\n",
    "    'distance': '378.102',\n",
    "    'tel': '020-61787222',\n",
    "    'type': '住宿服务;住宿服务相关;住宿服务相关'},\n",
    "   {'id': 'B0HGD58NF8',\n",
    "    'direction': '北',\n",
    "    'businessarea': [],\n",
    "    'address': '温泉大道882号广州南方学院新综合楼2层',\n",
    "    'poiweight': '0.191229',\n",
    "    'name': '广州南方学院达人书院',\n",
    "    'location': '113.679041,23.632392',\n",
    "    'distance': '446.366',\n",
    "    'tel': [],\n",
    "    'type': '科教文化服务;科教文化场所;科教文化场所'},\n",
    "   {'id': 'B0FFKUVYWV',\n",
    "    'direction': '东北',\n",
    "    'businessarea': [],\n",
    "    'address': '保利桃花源',\n",
    "    'poiweight': '0.273168',\n",
    "    'name': '广州和风庭阿七度假别墅',\n",
    "    'location': '113.681736,23.630569',\n",
    "    'distance': '424.35',\n",
    "    'tel': '18681565305',\n",
    "    'type': '住宿服务;住宿服务相关;住宿服务相关'},\n",
    "   {'id': 'B0HGDU99RM',\n",
    "    'direction': '北',\n",
    "    'businessarea': [],\n",
    "    'address': '温泉大道882号广州南方学院内',\n",
    "    'poiweight': '0.257947',\n",
    "    'name': '广州南方学院图书馆',\n",
    "    'location': '113.679177,23.632762',\n",
    "    'distance': '489.331',\n",
    "    'tel': '020-61787368;020-61787371',\n",
    "    'type': '科教文化服务;图书馆;图书馆'},\n",
    "   {'id': 'B0HGDU92JC',\n",
    "    'direction': '北',\n",
    "    'businessarea': [],\n",
    "    'address': '博学路附近',\n",
    "    'poiweight': '0.221662',\n",
    "    'name': '广州南方学院4号实验楼',\n",
    "    'location': '113.679963,23.632652',\n",
    "    'distance': '498.883',\n",
    "    'tel': [],\n",
    "    'type': '科教文化服务;学校;学校'},\n",
    "   {'id': 'B0FFL7C054',\n",
    "    'direction': '北',\n",
    "    'businessarea': [],\n",
    "    'address': '温泉镇博学路882号(广州南方学院商业中心1层)',\n",
    "    'poiweight': '0.317505',\n",
    "    'name': '广州U优森特酒店',\n",
    "    'location': '113.679226,23.632528',\n",
    "    'distance': '464.819',\n",
    "    'tel': '15813395296',\n",
    "    'type': '住宿服务;住宿服务相关;住宿服务相关'},\n",
    "   {'id': 'B0FFG8CSEK',\n",
    "    'direction': '东北',\n",
    "    'businessarea': [],\n",
    "    'address': '从莞深高速(广州南方学院)',\n",
    "    'poiweight': '0.185371',\n",
    "    'name': 'L5员工宿舍',\n",
    "    'location': '113.682583,23.631487',\n",
    "    'distance': '554.129',\n",
    "    'tel': [],\n",
    "    'type': '商务住宅;住宅区;宿舍'},\n",
    "   {'id': 'B0HGD58FR2',\n",
    "    'direction': '北',\n",
    "    'businessarea': [],\n",
    "    'address': '广州南方学院',\n",
    "    'poiweight': '0.221662',\n",
    "    'name': '广州南方学院教学楼9号',\n",
    "    'location': '113.679747,23.633032',\n",
    "    'distance': '532.163',\n",
    "    'tel': [],\n",
    "    'type': '科教文化服务;学校;学校'},\n",
    "   {'id': 'B0HG5Z9JNK',\n",
    "    'direction': '北',\n",
    "    'businessarea': [],\n",
    "    'address': '博学路',\n",
    "    'poiweight': '0.221553',\n",
    "    'name': '广州南方学院教学楼7号',\n",
    "    'location': '113.678600,23.633330',\n",
    "    'distance': '544.868',\n",
    "    'tel': [],\n",
    "    'type': '科教文化服务;学校;学校'},\n",
    "   {'id': 'B0HGD599JM',\n",
    "    'direction': '北',\n",
    "    'businessarea': [],\n",
    "    'address': '温泉大道882号广州南方学院',\n",
    "    'poiweight': '0.221662',\n",
    "    'name': '广州南方学院第11教学楼',\n",
    "    'location': '113.680037,23.633173',\n",
    "    'distance': '556.036',\n",
    "    'tel': [],\n",
    "    'type': '科教文化服务;学校;学校'},\n",
    "   {'id': 'B0GUJYPEG2',\n",
    "    'direction': '北',\n",
    "    'businessarea': [],\n",
    "    'address': '温泉大道882号广州南方学院内博学路6号之3',\n",
    "    'poiweight': '0.216026',\n",
    "    'name': '怒烤烤串(从化店)',\n",
    "    'location': '113.677160,23.632910',\n",
    "    'distance': '510.112',\n",
    "    'tel': [],\n",
    "    'type': '餐饮服务;中餐厅;特色/地方风味餐厅'},\n",
    "   {'id': 'B0HGDU6Z41',\n",
    "    'direction': '北',\n",
    "    'businessarea': [],\n",
    "    'address': '温泉大道882',\n",
    "    'poiweight': '0.221662',\n",
    "    'name': '广州南方学院教学楼6号',\n",
    "    'location': '113.678424,23.633710',\n",
    "    'distance': '586.331',\n",
    "    'tel': [],\n",
    "    'type': '科教文化服务;学校;学校'},\n",
    "   {'id': 'B0HGD580NZ',\n",
    "    'direction': '北',\n",
    "    'businessarea': [],\n",
    "    'address': '博学路7号附近',\n",
    "    'poiweight': '0.285712',\n",
    "    'name': '广州南方学院惟贤门',\n",
    "    'location': '113.678437,23.633721',\n",
    "    'distance': '587.601',\n",
    "    'tel': [],\n",
    "    'type': '科教文化服务;学校;高等院校'},\n",
    "   {'id': 'B0HGDU7T1K',\n",
    "    'direction': '北',\n",
    "    'businessarea': [],\n",
    "    'address': '从莞深高速(广州南方学院)',\n",
    "    'poiweight': '0.191229',\n",
    "    'name': '广州南方学院教学楼10号',\n",
    "    'location': '113.680125,23.633492',\n",
    "    'distance': '592.504',\n",
    "    'tel': [],\n",
    "    'type': '科教文化服务;科教文化场所;科教文化场所'},\n",
    "   {'id': 'B0HGDU76L1',\n",
    "    'direction': '北',\n",
    "    'businessarea': [],\n",
    "    'address': '中山路与博学路交叉口东南150米',\n",
    "    'poiweight': '0.221662',\n",
    "    'name': '广州南方学院教学楼5号',\n",
    "    'location': '113.678046,23.633982',\n",
    "    'distance': '616.848',\n",
    "    'tel': [],\n",
    "    'type': '科教文化服务;学校;学校'}]},\n",
    " 'info': 'OK',\n",
    " 'infocode': '10000'}"
   ]
  },
  {
   "cell_type": "code",
   "execution_count": 14,
   "id": "c653ad60",
   "metadata": {},
   "outputs": [
    {
     "data": {
      "text/plain": [
       "dict_keys(['status', 'regeocode', 'info', 'infocode'])"
      ]
     },
     "execution_count": 14,
     "metadata": {},
     "output_type": "execute_result"
    }
   ],
   "source": [
    "广州南方学院.keys()"
   ]
  },
  {
   "cell_type": "code",
   "execution_count": 15,
   "id": "5e1b7f53",
   "metadata": {},
   "outputs": [],
   "source": [
    "# 字典查询的一般方法：1.看key是否存在 2. dict_name[key]进行查询"
   ]
  },
  {
   "cell_type": "code",
   "execution_count": 16,
   "id": "0ddd7368",
   "metadata": {},
   "outputs": [
    {
     "data": {
      "text/plain": [
       "'1'"
      ]
     },
     "execution_count": 16,
     "metadata": {},
     "output_type": "execute_result"
    }
   ],
   "source": [
    "广州南方学院['status']"
   ]
  },
  {
   "cell_type": "code",
   "execution_count": 17,
   "id": "96baf502",
   "metadata": {},
   "outputs": [
    {
     "data": {
      "text/plain": [
       "{'roads': [{'id': '020F49F0050461206',\n",
       "   'location': '113.678,23.6284',\n",
       "   'direction': '北',\n",
       "   'name': '博学路',\n",
       "   'distance': '7.63232'},\n",
       "  {'id': '020F49F0050462229',\n",
       "   'location': '113.679,23.6245',\n",
       "   'direction': '北',\n",
       "   'name': '老虎形街',\n",
       "   'distance': '445.159'},\n",
       "  {'id': '020F49F0050462451',\n",
       "   'location': '113.677,23.6347',\n",
       "   'direction': '南',\n",
       "   'name': '中山路',\n",
       "   'distance': '708.299'}],\n",
       " 'roadinters': [{'second_name': '中山路',\n",
       "   'first_id': '020F49F0050461206',\n",
       "   'second_id': '020F49F0050462451',\n",
       "   'location': '113.676794,23.634661',\n",
       "   'distance': '708.299',\n",
       "   'first_name': '博学路',\n",
       "   'direction': '南'}],\n",
       " 'formatted_address': '广东省广州市从化区温泉镇博学路',\n",
       " 'addressComponent': {'city': '广州市',\n",
       "  'province': '广东省',\n",
       "  'adcode': '440117',\n",
       "  'district': '从化区',\n",
       "  'towncode': '440117100000',\n",
       "  'streetNumber': {'number': '24号',\n",
       "   'location': '113.677267,23.629149',\n",
       "   'direction': '西北',\n",
       "   'distance': '129.943',\n",
       "   'street': '博学路'},\n",
       "  'country': '中国',\n",
       "  'township': '温泉镇',\n",
       "  'businessAreas': [[]],\n",
       "  'building': {'name': [], 'type': []},\n",
       "  'neighborhood': {'name': [], 'type': []},\n",
       "  'citycode': '020'},\n",
       " 'aois': [],\n",
       " 'pois': [{'id': 'B0FFG4TAF2',\n",
       "   'direction': '东南',\n",
       "   'businessarea': [],\n",
       "   'address': '温泉镇乌土村松浪队5号(近博学路)',\n",
       "   'poiweight': '0.237309',\n",
       "   'name': '广州南方公寓',\n",
       "   'location': '113.678983,23.627778',\n",
       "   'distance': '102.617',\n",
       "   'tel': '13622768437',\n",
       "   'type': '商务住宅;住宅区;住宅小区'},\n",
       "  {'id': 'B0H6FA18J5',\n",
       "   'direction': '东南',\n",
       "   'businessarea': [],\n",
       "   'address': '从莞深高速(广州南方学院南侧)',\n",
       "   'poiweight': '0.223065',\n",
       "   'name': '保利半山花园',\n",
       "   'location': '113.679358,23.627672',\n",
       "   'distance': '139.054',\n",
       "   'tel': [],\n",
       "   'type': '商务住宅;住宅区;住宅区'},\n",
       "  {'id': 'B00140TWHT',\n",
       "   'direction': '北',\n",
       "   'businessarea': [],\n",
       "   'address': '笃行路2',\n",
       "   'poiweight': '0.157653',\n",
       "   'name': '教工住宅1号',\n",
       "   'location': '113.678490,23.630432',\n",
       "   'distance': '222.658',\n",
       "   'tel': [],\n",
       "   'type': '商务住宅;住宅区;住宅小区'},\n",
       "  {'id': 'B0FFHRJDM9',\n",
       "   'direction': '东南',\n",
       "   'businessarea': [],\n",
       "   'address': '中大南方学院南门1号',\n",
       "   'poiweight': '0.256152',\n",
       "   'name': '中南公寓',\n",
       "   'location': '113.680349,23.627573',\n",
       "   'distance': '231.723',\n",
       "   'tel': '13711245345',\n",
       "   'type': '商务住宅;住宅区;住宅小区'},\n",
       "  {'id': 'B0HGD588HJ',\n",
       "   'direction': '北',\n",
       "   'businessarea': [],\n",
       "   'address': '博学路',\n",
       "   'poiweight': '0.221662',\n",
       "   'name': '广州南方学院教学楼4号',\n",
       "   'location': '113.677460,23.630490',\n",
       "   'distance': '242.901',\n",
       "   'tel': [],\n",
       "   'type': '科教文化服务;学校;学校'},\n",
       "  {'id': 'B0FFHZH0IK',\n",
       "   'direction': '西北',\n",
       "   'businessarea': [],\n",
       "   'address': '博学路广州南方学院综合楼内',\n",
       "   'poiweight': '0.17934',\n",
       "   'name': '地下铁',\n",
       "   'location': '113.677941,23.629029',\n",
       "   'distance': '74.1376',\n",
       "   'tel': [],\n",
       "   'type': '餐饮服务;冷饮店;冷饮店'},\n",
       "  {'id': 'B0HGDU76L2',\n",
       "   'direction': '北',\n",
       "   'businessarea': [],\n",
       "   'address': '博学路',\n",
       "   'poiweight': '0.221662',\n",
       "   'name': '广州南方学院2号实验楼',\n",
       "   'location': '113.678211,23.630956',\n",
       "   'distance': '280.003',\n",
       "   'tel': [],\n",
       "   'type': '科教文化服务;学校;学校'},\n",
       "  {'id': 'B0FFKP838K',\n",
       "   'direction': '北',\n",
       "   'businessarea': [],\n",
       "   'address': '博学路25',\n",
       "   'poiweight': '0.191742',\n",
       "   'name': '教学楼3号(外国语学院)',\n",
       "   'location': '113.677247,23.630947',\n",
       "   'distance': '298.093',\n",
       "   'tel': [],\n",
       "   'type': '科教文化服务;学校;高等院校'},\n",
       "  {'id': 'B0HGDU8NLD',\n",
       "   'direction': '北',\n",
       "   'businessarea': [],\n",
       "   'address': '博学路附近',\n",
       "   'poiweight': '0.221662',\n",
       "   'name': '广州南方学院1号实验楼',\n",
       "   'location': '113.678215,23.631370',\n",
       "   'distance': '326.007',\n",
       "   'tel': [],\n",
       "   'type': '科教文化服务;学校;学校'},\n",
       "  {'id': 'B0HGD58UTU',\n",
       "   'direction': '西北',\n",
       "   'businessarea': [],\n",
       "   'address': '博学路',\n",
       "   'poiweight': '0.191229',\n",
       "   'name': '广州南方学院2号教学楼',\n",
       "   'location': '113.677060,23.631346',\n",
       "   'distance': '346.352',\n",
       "   'tel': [],\n",
       "   'type': '科教文化服务;学校;学校'},\n",
       "  {'id': 'B00140MR9A',\n",
       "   'direction': '北',\n",
       "   'businessarea': [],\n",
       "   'address': '温泉大道882号',\n",
       "   'poiweight': '0.450402',\n",
       "   'name': '广州南方学院',\n",
       "   'location': '113.679262,23.632583',\n",
       "   'distance': '471.564',\n",
       "   'tel': '020-87828988;020-61787331',\n",
       "   'type': '科教文化服务;学校;高等院校'},\n",
       "  {'id': 'B0HGDU92JD',\n",
       "   'direction': '北',\n",
       "   'businessarea': [],\n",
       "   'address': [],\n",
       "   'poiweight': '0.221662',\n",
       "   'name': '广州南方学院教学楼1号',\n",
       "   'location': '113.677077,23.631783',\n",
       "   'distance': '391.548',\n",
       "   'tel': [],\n",
       "   'type': '科教文化服务;学校;学校'},\n",
       "  {'id': 'B0HGD592BJ',\n",
       "   'direction': '东北',\n",
       "   'businessarea': [],\n",
       "   'address': '温泉大道886号广州南方学院内',\n",
       "   'poiweight': '0.221662',\n",
       "   'name': '广州南方学院综合楼',\n",
       "   'location': '113.680117,23.631544',\n",
       "   'distance': '392.731',\n",
       "   'tel': [],\n",
       "   'type': '科教文化服务;学校;学校'},\n",
       "  {'id': 'B0FFKP81F0',\n",
       "   'direction': '西北',\n",
       "   'businessarea': [],\n",
       "   'address': '博学路19号附近',\n",
       "   'poiweight': '0.191742',\n",
       "   'name': '教学楼1号(文学与传媒学院)',\n",
       "   'location': '113.676866,23.631736',\n",
       "   'distance': '393.93',\n",
       "   'tel': [],\n",
       "   'type': '科教文化服务;科教文化场所;科教文化场所'},\n",
       "  {'id': 'B0FFLBEOND',\n",
       "   'direction': '东北',\n",
       "   'businessarea': [],\n",
       "   'address': '从莞深高速(广州南方学院)',\n",
       "   'poiweight': '0.190963',\n",
       "   'name': '聚贤楼10号',\n",
       "   'location': '113.681253,23.631036',\n",
       "   'distance': '418.51',\n",
       "   'tel': [],\n",
       "   'type': '商务住宅;住宅区;宿舍'},\n",
       "  {'id': 'B0FFH6K3U9',\n",
       "   'direction': '西北',\n",
       "   'businessarea': [],\n",
       "   'address': '温泉镇温泉大道882号广州南方学院H7栋1-5层',\n",
       "   'poiweight': '0.254885',\n",
       "   'name': '广州中大南方招待所',\n",
       "   'location': '113.676330,23.631332',\n",
       "   'distance': '378.102',\n",
       "   'tel': '020-61787222',\n",
       "   'type': '住宿服务;住宿服务相关;住宿服务相关'},\n",
       "  {'id': 'B0HGD58NF8',\n",
       "   'direction': '北',\n",
       "   'businessarea': [],\n",
       "   'address': '温泉大道882号广州南方学院新综合楼2层',\n",
       "   'poiweight': '0.191229',\n",
       "   'name': '广州南方学院达人书院',\n",
       "   'location': '113.679041,23.632392',\n",
       "   'distance': '446.366',\n",
       "   'tel': [],\n",
       "   'type': '科教文化服务;科教文化场所;科教文化场所'},\n",
       "  {'id': 'B0FFKUVYWV',\n",
       "   'direction': '东北',\n",
       "   'businessarea': [],\n",
       "   'address': '保利桃花源',\n",
       "   'poiweight': '0.273168',\n",
       "   'name': '广州和风庭阿七度假别墅',\n",
       "   'location': '113.681736,23.630569',\n",
       "   'distance': '424.35',\n",
       "   'tel': '18681565305',\n",
       "   'type': '住宿服务;住宿服务相关;住宿服务相关'},\n",
       "  {'id': 'B0HGDU99RM',\n",
       "   'direction': '北',\n",
       "   'businessarea': [],\n",
       "   'address': '温泉大道882号广州南方学院内',\n",
       "   'poiweight': '0.257947',\n",
       "   'name': '广州南方学院图书馆',\n",
       "   'location': '113.679177,23.632762',\n",
       "   'distance': '489.331',\n",
       "   'tel': '020-61787368;020-61787371',\n",
       "   'type': '科教文化服务;图书馆;图书馆'},\n",
       "  {'id': 'B0HGDU92JC',\n",
       "   'direction': '北',\n",
       "   'businessarea': [],\n",
       "   'address': '博学路附近',\n",
       "   'poiweight': '0.221662',\n",
       "   'name': '广州南方学院4号实验楼',\n",
       "   'location': '113.679963,23.632652',\n",
       "   'distance': '498.883',\n",
       "   'tel': [],\n",
       "   'type': '科教文化服务;学校;学校'},\n",
       "  {'id': 'B0FFL7C054',\n",
       "   'direction': '北',\n",
       "   'businessarea': [],\n",
       "   'address': '温泉镇博学路882号(广州南方学院商业中心1层)',\n",
       "   'poiweight': '0.317505',\n",
       "   'name': '广州U优森特酒店',\n",
       "   'location': '113.679226,23.632528',\n",
       "   'distance': '464.819',\n",
       "   'tel': '15813395296',\n",
       "   'type': '住宿服务;住宿服务相关;住宿服务相关'},\n",
       "  {'id': 'B0FFG8CSEK',\n",
       "   'direction': '东北',\n",
       "   'businessarea': [],\n",
       "   'address': '从莞深高速(广州南方学院)',\n",
       "   'poiweight': '0.185371',\n",
       "   'name': 'L5员工宿舍',\n",
       "   'location': '113.682583,23.631487',\n",
       "   'distance': '554.129',\n",
       "   'tel': [],\n",
       "   'type': '商务住宅;住宅区;宿舍'},\n",
       "  {'id': 'B0HGD58FR2',\n",
       "   'direction': '北',\n",
       "   'businessarea': [],\n",
       "   'address': '广州南方学院',\n",
       "   'poiweight': '0.221662',\n",
       "   'name': '广州南方学院教学楼9号',\n",
       "   'location': '113.679747,23.633032',\n",
       "   'distance': '532.163',\n",
       "   'tel': [],\n",
       "   'type': '科教文化服务;学校;学校'},\n",
       "  {'id': 'B0HG5Z9JNK',\n",
       "   'direction': '北',\n",
       "   'businessarea': [],\n",
       "   'address': '博学路',\n",
       "   'poiweight': '0.221553',\n",
       "   'name': '广州南方学院教学楼7号',\n",
       "   'location': '113.678600,23.633330',\n",
       "   'distance': '544.868',\n",
       "   'tel': [],\n",
       "   'type': '科教文化服务;学校;学校'},\n",
       "  {'id': 'B0HGD599JM',\n",
       "   'direction': '北',\n",
       "   'businessarea': [],\n",
       "   'address': '温泉大道882号广州南方学院',\n",
       "   'poiweight': '0.221662',\n",
       "   'name': '广州南方学院第11教学楼',\n",
       "   'location': '113.680037,23.633173',\n",
       "   'distance': '556.036',\n",
       "   'tel': [],\n",
       "   'type': '科教文化服务;学校;学校'},\n",
       "  {'id': 'B0GUJYPEG2',\n",
       "   'direction': '北',\n",
       "   'businessarea': [],\n",
       "   'address': '温泉大道882号广州南方学院内博学路6号之3',\n",
       "   'poiweight': '0.216026',\n",
       "   'name': '怒烤烤串(从化店)',\n",
       "   'location': '113.677160,23.632910',\n",
       "   'distance': '510.112',\n",
       "   'tel': [],\n",
       "   'type': '餐饮服务;中餐厅;特色/地方风味餐厅'},\n",
       "  {'id': 'B0HGDU6Z41',\n",
       "   'direction': '北',\n",
       "   'businessarea': [],\n",
       "   'address': '温泉大道882',\n",
       "   'poiweight': '0.221662',\n",
       "   'name': '广州南方学院教学楼6号',\n",
       "   'location': '113.678424,23.633710',\n",
       "   'distance': '586.331',\n",
       "   'tel': [],\n",
       "   'type': '科教文化服务;学校;学校'},\n",
       "  {'id': 'B0HGD580NZ',\n",
       "   'direction': '北',\n",
       "   'businessarea': [],\n",
       "   'address': '博学路7号附近',\n",
       "   'poiweight': '0.285712',\n",
       "   'name': '广州南方学院惟贤门',\n",
       "   'location': '113.678437,23.633721',\n",
       "   'distance': '587.601',\n",
       "   'tel': [],\n",
       "   'type': '科教文化服务;学校;高等院校'},\n",
       "  {'id': 'B0HGDU7T1K',\n",
       "   'direction': '北',\n",
       "   'businessarea': [],\n",
       "   'address': '从莞深高速(广州南方学院)',\n",
       "   'poiweight': '0.191229',\n",
       "   'name': '广州南方学院教学楼10号',\n",
       "   'location': '113.680125,23.633492',\n",
       "   'distance': '592.504',\n",
       "   'tel': [],\n",
       "   'type': '科教文化服务;科教文化场所;科教文化场所'},\n",
       "  {'id': 'B0HGDU76L1',\n",
       "   'direction': '北',\n",
       "   'businessarea': [],\n",
       "   'address': '中山路与博学路交叉口东南150米',\n",
       "   'poiweight': '0.221662',\n",
       "   'name': '广州南方学院教学楼5号',\n",
       "   'location': '113.678046,23.633982',\n",
       "   'distance': '616.848',\n",
       "   'tel': [],\n",
       "   'type': '科教文化服务;学校;学校'}]}"
      ]
     },
     "execution_count": 17,
     "metadata": {},
     "output_type": "execute_result"
    }
   ],
   "source": [
    "广州南方学院['regeocode']"
   ]
  },
  {
   "cell_type": "code",
   "execution_count": 18,
   "id": "03f1223c",
   "metadata": {},
   "outputs": [],
   "source": [
    "# 查regeocode中的key"
   ]
  },
  {
   "cell_type": "code",
   "execution_count": 19,
   "id": "85a34eca",
   "metadata": {},
   "outputs": [
    {
     "data": {
      "text/plain": [
       "dict_keys(['roads', 'roadinters', 'formatted_address', 'addressComponent', 'aois', 'pois'])"
      ]
     },
     "execution_count": 19,
     "metadata": {},
     "output_type": "execute_result"
    }
   ],
   "source": [
    "广州南方学院['regeocode'].keys()"
   ]
  },
  {
   "cell_type": "code",
   "execution_count": 20,
   "id": "a522cd4f",
   "metadata": {},
   "outputs": [
    {
     "name": "stdout",
     "output_type": "stream",
     "text": [
      "30\n"
     ]
    }
   ],
   "source": [
    "print(len(广州南方学院['regeocode']['pois']))"
   ]
  },
  {
   "cell_type": "code",
   "execution_count": 21,
   "id": "1f78542c",
   "metadata": {},
   "outputs": [
    {
     "data": {
      "text/plain": [
       "'OK'"
      ]
     },
     "execution_count": 21,
     "metadata": {},
     "output_type": "execute_result"
    }
   ],
   "source": [
    "广州南方学院['info']"
   ]
  },
  {
   "cell_type": "code",
   "execution_count": 22,
   "id": "33c22319",
   "metadata": {},
   "outputs": [
    {
     "data": {
      "text/plain": [
       "'10000'"
      ]
     },
     "execution_count": 22,
     "metadata": {},
     "output_type": "execute_result"
    }
   ],
   "source": [
    "广州南方学院['infocode']"
   ]
  },
  {
   "cell_type": "code",
   "execution_count": null,
   "id": "8054f93d",
   "metadata": {},
   "outputs": [],
   "source": []
  },
  {
   "cell_type": "code",
   "execution_count": null,
   "id": "1e4956a8",
   "metadata": {},
   "outputs": [],
   "source": []
  }
 ],
 "metadata": {
  "kernelspec": {
   "display_name": "Python 3",
   "language": "python",
   "name": "python3"
  },
  "language_info": {
   "codemirror_mode": {
    "name": "ipython",
    "version": 3
   },
   "file_extension": ".py",
   "mimetype": "text/x-python",
   "name": "python",
   "nbconvert_exporter": "python",
   "pygments_lexer": "ipython3",
   "version": "3.8.8"
  },
  "toc": {
   "base_numbering": 1,
   "nav_menu": {},
   "number_sections": true,
   "sideBar": true,
   "skip_h1_title": false,
   "title_cell": "Table of Contents",
   "title_sidebar": "Contents",
   "toc_cell": false,
   "toc_position": {},
   "toc_section_display": true,
   "toc_window_display": false
  }
 },
 "nbformat": 4,
 "nbformat_minor": 5
}
