{
 "cells": [
  {
   "cell_type": "markdown",
   "id": "51912fe0",
   "metadata": {},
   "source": [
    "## 本周知识点\n",
    "\n",
    "### 1.字典的初始 ({key:value})\n",
    "\n",
    "> 1.[字典的文档](https://)\n",
    "\n",
    "> 2.字典的重要属性：\n",
    "\n",
    ">> 1.结构：key:value(键值对)                                                                           \n",
    ">> 2.字典是无序的，我们通过key去找value，就像list用index查找value\n",
    ">> 3.字典对key的要求：key由“不可变”数据结构才可以定义，list不能作为key\n",
    "\n",
    "> 3.字典的创建"
   ]
  },
  {
   "cell_type": "code",
   "execution_count": 1,
   "id": "30e9bafd",
   "metadata": {},
   "outputs": [],
   "source": [
    "user = [\n",
    "    [\"jinblue\",19,\"IT\",20000],\n",
    "    [\"bluejin\",91,\"IT\",30000]\n",
    "]\n",
    "#对比\n",
    "user_dict = {\n",
    "    \"jinblue\":[19,\"IT\",20000],\n",
    "    \"bluejin\":[91,\"IT\",30000]\n",
    "}"
   ]
  },
  {
   "cell_type": "code",
   "execution_count": 4,
   "id": "9db3a8b1",
   "metadata": {},
   "outputs": [
    {
     "data": {
      "text/plain": [
       "['bluejin', 91, 'IT', 30000]"
      ]
     },
     "execution_count": 4,
     "metadata": {},
     "output_type": "execute_result"
    }
   ],
   "source": [
    "#查询xiaoming\n",
    "user[1]"
   ]
  },
  {
   "cell_type": "code",
   "execution_count": 5,
   "id": "1a9ef8eb",
   "metadata": {},
   "outputs": [
    {
     "data": {
      "text/plain": [
       "[91, 'IT', 30000]"
      ]
     },
     "execution_count": 5,
     "metadata": {},
     "output_type": "execute_result"
    }
   ],
   "source": [
    "user_dict[\"bluejin\"]"
   ]
  },
  {
   "cell_type": "markdown",
   "id": "0f939d39",
   "metadata": {},
   "source": [
    "###  2.字典的创建（常见的三种方式）\n",
    "> 1.info = { key1:value1,key2:value2,...}按字典格式创建\n",
    "> 2.info_02 = dict(key1=value1,)用dict（）\n",
    "> 3.info_03 = {} info_03[key1] = value1...运用字典增加"
   ]
  },
  {
   "cell_type": "code",
   "execution_count": 6,
   "id": "d76d432c",
   "metadata": {},
   "outputs": [
    {
     "name": "stdout",
     "output_type": "stream",
     "text": [
      "{'stu1001': 'bluejin', 'stu1002': 'jinblue', 'stu1003': 'redjin'}\n",
      "<class 'dict'>\n"
     ]
    }
   ],
   "source": [
    "info = {\n",
    "    \"stu1001\":\"bluejin\",\n",
    "    \"stu1002\":\"jinblue\",\n",
    "    \"stu1003\":\"redjin\",\n",
    "    #\"stu1004\":\"xiaohong\"\n",
    "    }\n",
    "print(info)\n",
    "print(type(info))"
   ]
  },
  {
   "cell_type": "code",
   "execution_count": 7,
   "id": "f4bfbc45",
   "metadata": {},
   "outputs": [
    {
     "name": "stdout",
     "output_type": "stream",
     "text": [
      "{'stu1001': 'bluejin', 'stu1002': 'jinblue', 'stu1003': 'redjin', 'stu1004': 'redjin'}\n",
      "<class 'dict'>\n"
     ]
    }
   ],
   "source": [
    "info_02 = dict(\n",
    "    stu1001=\"bluejin\",\n",
    "    stu1002=\"jinblue\",\n",
    "    stu1003=\"redjin\",\n",
    "    stu1004=\"redjin\"\n",
    ")\n",
    "print(info_02)\n",
    "print(type(info_02))"
   ]
  },
  {
   "cell_type": "code",
   "execution_count": 8,
   "id": "862165d3",
   "metadata": {},
   "outputs": [
    {
     "name": "stdout",
     "output_type": "stream",
     "text": [
      "{'stu1001': 'bluejin', 'stu1002': 'jinblue', 'stu1003': 'redjin'}\n",
      "<class 'dict'>\n"
     ]
    }
   ],
   "source": [
    "info_03 = {}#新建空字典\n",
    "info_03[\"stu1001\"] = \"bluejin\"\n",
    "info_03[\"stu1002\"] = \"jinblue\"\n",
    "info_03[\"stu1003\"] = \"redjin\"\n",
    "print(info_03)\n",
    "print(type(info_03))"
   ]
  },
  {
   "cell_type": "markdown",
   "id": "bfd30b88",
   "metadata": {},
   "source": [
    "### 字典的增、删、改、查\n",
    "\n",
    "> 1.字典的增加（和字典的第三种创建方式一致）\n",
    ">> * info_03[\"stu1004\"]=\"zhichao\"\n",
    "> 2.字典的查询\n",
    ">> *注意：正确的查询方式应先查询key是否存在字典中"
   ]
  },
  {
   "cell_type": "code",
   "execution_count": 9,
   "id": "2808c8ca",
   "metadata": {},
   "outputs": [
    {
     "name": "stdout",
     "output_type": "stream",
     "text": [
      "{'stu1001': 'bluejin', 'stu1002': 'jinblue', 'stu1003': 'redjin', 'stu1004': 'jinred'}\n"
     ]
    }
   ],
   "source": [
    "info_03[\"stu1004\"] = \"jinred\"\n",
    "print(info_03)"
   ]
  },
  {
   "cell_type": "code",
   "execution_count": 10,
   "id": "d4843d46",
   "metadata": {},
   "outputs": [
    {
     "data": {
      "text/plain": [
       "'redjin'"
      ]
     },
     "execution_count": 10,
     "metadata": {},
     "output_type": "execute_result"
    }
   ],
   "source": [
    "#用key查到value\n",
    "info_03[\"stu1003\"]"
   ]
  },
  {
   "cell_type": "code",
   "execution_count": 11,
   "id": "79e06fda",
   "metadata": {},
   "outputs": [
    {
     "name": "stdout",
     "output_type": "stream",
     "text": [
      "True\n",
      "不存在\n"
     ]
    }
   ],
   "source": [
    "#正确的查询方式\n",
    "print(\"stu1003\" in info_03 )\n",
    "if \"stu1006\" in info_03:\n",
    "    print(info_03[\"stu1006\"])\n",
    "else:\n",
    "    print(\"不存在\")"
   ]
  },
  {
   "cell_type": "code",
   "execution_count": 12,
   "id": "33670b81",
   "metadata": {},
   "outputs": [
    {
     "name": "stdout",
     "output_type": "stream",
     "text": [
      "{'stu1001': 'bluejin', 'stu1002': 'jinblue', 'stu1003': 'Alex', 'stu1004': 'jinred'}\n"
     ]
    }
   ],
   "source": [
    "#修改:也要先查询key\n",
    "if \"stu1003\" in info_03:\n",
    "    info_03[\"stu1003\"] = \"Alex\"\n",
    "print(info_03)"
   ]
  },
  {
   "cell_type": "code",
   "execution_count": 13,
   "id": "b639d710",
   "metadata": {},
   "outputs": [
    {
     "name": "stdout",
     "output_type": "stream",
     "text": [
      "{'stu1001': 'bluejin', 'stu1002': 'jinblue', 'stu1004': 'jinred'}\n"
     ]
    }
   ],
   "source": [
    "# 字典的删除 pop()\n",
    "info_03.pop(\"stu1003\")\n",
    "print(info_03)"
   ]
  },
  {
   "cell_type": "code",
   "execution_count": 14,
   "id": "6e7e8618",
   "metadata": {},
   "outputs": [
    {
     "name": "stdout",
     "output_type": "stream",
     "text": [
      "{'stu1001': 'bluejin', 'stu1002': 'jinblue'}\n"
     ]
    }
   ],
   "source": [
    "# 字典的删除 popitem()\n",
    "info_03.popitem()\n",
    "print(info_03)"
   ]
  },
  {
   "cell_type": "code",
   "execution_count": null,
   "id": "3fc09b37",
   "metadata": {},
   "outputs": [],
   "source": []
  }
 ],
 "metadata": {
  "kernelspec": {
   "display_name": "Python 3",
   "language": "python",
   "name": "python3"
  },
  "language_info": {
   "codemirror_mode": {
    "name": "ipython",
    "version": 3
   },
   "file_extension": ".py",
   "mimetype": "text/x-python",
   "name": "python",
   "nbconvert_exporter": "python",
   "pygments_lexer": "ipython3",
   "version": "3.8.8"
  },
  "toc": {
   "base_numbering": 1,
   "nav_menu": {},
   "number_sections": true,
   "sideBar": true,
   "skip_h1_title": false,
   "title_cell": "Table of Contents",
   "title_sidebar": "Contents",
   "toc_cell": false,
   "toc_position": {},
   "toc_section_display": true,
   "toc_window_display": false
  }
 },
 "nbformat": 4,
 "nbformat_minor": 5
}
